{
 "cells": [
  {
   "cell_type": "markdown",
   "id": "6b8c1e35",
   "metadata": {},
   "source": [
    "## Guten Morgen,\n",
    "das ist mein erstes *Jupyter notebook*. \n",
    "\n",
    "Ich schätze, ich muss jetzt erst einmal die Markdown-Syntax lernen. "
   ]
  },
  {
   "cell_type": "code",
   "execution_count": 1,
   "id": "2c83bb02",
   "metadata": {},
   "outputs": [
    {
     "data": {
      "text/plain": [
       "3"
      ]
     },
     "execution_count": 1,
     "metadata": {},
     "output_type": "execute_result"
    }
   ],
   "source": [
    "1+2"
   ]
  },
  {
   "cell_type": "markdown",
   "id": "cc97586e",
   "metadata": {},
   "source": [
    "Da hab ich doch schon eine Zelle eingeführt, in der meine erste Berechnung ausgeführt werden kann. \n",
    "\n",
    "Prima, Nobi! Ich bin stolz auf Dich!"
   ]
  },
  {
   "cell_type": "markdown",
   "id": "e4cfe5bc",
   "metadata": {},
   "source": [
    "<dl>\n",
    "    <dt>Graph<dt>\n",
    "    <dd>Struktur mit Knoten und Kanten<dd>\n",
    "<dl>"
   ]
  },
  {
   "cell_type": "markdown",
   "id": "52aaea8d",
   "metadata": {},
   "source": [
    "Das war ein bisschen *inline HTML*. Geht ganz baby. \n",
    "\n",
    "Aber jetzt kommt die erste Formel mit MathJax. Das ist viel komplizierter."
   ]
  },
  {
   "cell_type": "markdown",
   "id": "01013dca",
   "metadata": {},
   "source": [
    "\n",
    "   $$\n",
    "  \\int_0^\\infty \\frac{x^3}{e^x-1}\\,dx = \\frac{\\pi^4}{15}\n",
    "$$\n"
   ]
  },
  {
   "cell_type": "markdown",
   "id": "d7336e8a",
   "metadata": {},
   "source": [
    "(Das *cheat sheet* zu MathJax gibt es [hier](https://kapeli.com/cheat_sheets/LaTeX_Math_Symbols.docset/Contents/Resources/Documents/index).)"
   ]
  },
  {
   "cell_type": "code",
   "execution_count": null,
   "id": "2c7d4b69",
   "metadata": {},
   "outputs": [],
   "source": []
  }
 ],
 "metadata": {
  "kernelspec": {
   "display_name": "Python 3 (ipykernel)",
   "language": "python",
   "name": "python3"
  },
  "language_info": {
   "codemirror_mode": {
    "name": "ipython",
    "version": 3
   },
   "file_extension": ".py",
   "mimetype": "text/x-python",
   "name": "python",
   "nbconvert_exporter": "python",
   "pygments_lexer": "ipython3",
   "version": "3.10.7"
  }
 },
 "nbformat": 4,
 "nbformat_minor": 5
}
