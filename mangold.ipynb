{
 "cells": [
  {
   "cell_type": "code",
   "execution_count": 1,
   "id": "00d6b51d-3689-4181-a5dd-c9eacbd23e4c",
   "metadata": {},
   "outputs": [],
   "source": [
    "import io\n",
    "import os\n",
    "import re\n",
    "from xml.dom import minidom\n",
    "import json\n",
    "import codecs"
   ]
  },
  {
   "cell_type": "markdown",
   "id": "1ddce889-b623-49aa-a207-1e93bf9bc9e8",
   "metadata": {},
   "source": [
    "Navigate to recipe directory:"
   ]
  },
  {
   "cell_type": "code",
   "execution_count": 2,
   "id": "c5ed000b-a04a-4a60-9910-d3984e1ced31",
   "metadata": {},
   "outputs": [
    {
     "name": "stdout",
     "output_type": "stream",
     "text": [
      "Current working directory: C:\\Users\\nlutt\\Documents\\Websites\\ckCollections\\recipes_xml\\03 Mangold\n",
      "877\n"
     ]
    }
   ],
   "source": [
    "#f = io.open(\"igt_cat.json\", mode=\"r\", encoding=\"utf-8\")\n",
    "#cwd = os.getcwd()\n",
    "# Print the current working directory\n",
    "#print(\"Current working directory: {0}\".format(cwd))\n",
    "os.chdir('C:/Users/nlutt/Documents/Websites/ckCollections/recipes_xml/03 Mangold')\n",
    "cwd = os.getcwd()\n",
    "print(\"Current working directory: {0}\".format(cwd))\n",
    "# f.read()\n",
    "os.listdir(cwd)\n",
    "res = []\n",
    "# Iterate directory\n",
    "for path in os.listdir(cwd):\n",
    "    # check if current path is a file\n",
    "    if os.path.isfile(os.path.join(cwd, path)):\n",
    "        res.append(path)\n",
    "print(len(res))"
   ]
  },
  {
   "cell_type": "markdown",
   "id": "02336ba3-f683-4712-b131-739ac6b1fe65",
   "metadata": {},
   "source": [
    "Find out file name parts:"
   ]
  },
  {
   "cell_type": "code",
   "execution_count": 3,
   "id": "1c318120-cecb-4d0b-abbf-07552e1a30a2",
   "metadata": {},
   "outputs": [
    {
     "name": "stdout",
     "output_type": "stream",
     "text": [
      "1021541207378794\n"
     ]
    }
   ],
   "source": [
    "s = \"recipe-1021541207378794 - Ananas - Erdbeer - Konfitüre.xml\"\n",
    "id = re.match(r\"recipe-(\\d+)\", s).group(1)\n",
    "print (id)"
   ]
  },
  {
   "cell_type": "code",
   "execution_count": 4,
   "id": "6bc6d06c-d1c1-4316-a518-67b636ab5b4a",
   "metadata": {},
   "outputs": [
    {
     "name": "stdout",
     "output_type": "stream",
     "text": [
      "Ananas-Erdbeer-Konfitüre\n"
     ]
    }
   ],
   "source": [
    "rn = re.match(r\"recipe-\\d+\\s-\\s(.+)\\.xml\",s).group(1)\n",
    "rn = re.sub(r\"\\s-\\s\", '-' ,rn)\n",
    "print (rn)"
   ]
  },
  {
   "cell_type": "code",
   "execution_count": 5,
   "id": "0f15b56e-6188-4f0f-a277-4aecc25a005a",
   "metadata": {},
   "outputs": [
    {
     "name": "stdout",
     "output_type": "stream",
     "text": [
      "Ananas-Erdbeer-Konfitüre - r1021541207378794.xml\n"
     ]
    }
   ],
   "source": [
    "fn_new = rn + ' - r' + id + '.xml'\n",
    "print (fn_new)"
   ]
  },
  {
   "cell_type": "markdown",
   "id": "992998d1-e050-4094-ad90-38ebd274462d",
   "metadata": {},
   "source": [
    "### Find duplicate recipe names\n",
    "Find names:"
   ]
  },
  {
   "cell_type": "raw",
   "id": "643ddd60-a5a2-4f48-9895-e7947ee3f883",
   "metadata": {},
   "source": [
    "#seen = set()\n",
    "#dupes = []\n",
    "#\n",
    "#for fn in os.listdir(cwd):\n",
    "#    x = re.match(r\"(.*)\\s-\\sr\", fn).group(1) + '.xml'\n",
    "#    if x in seen:\n",
    "#        dupes.append(x)\n",
    "#    else:\n",
    "#        seen.add(x)\n",
    "#print (dupes)"
   ]
  },
  {
   "cell_type": "markdown",
   "id": "8e18b76e-dc5a-49a2-af2f-8daf1d8bd6c0",
   "metadata": {},
   "source": [
    "Renaming: done manually. Find here a still uncomplete procedure for automatic renaming (out-commented):"
   ]
  },
  {
   "cell_type": "code",
   "execution_count": 6,
   "id": "457c622a-aa3e-4c63-ac0a-ef3c78ff44ae",
   "metadata": {},
   "outputs": [
    {
     "name": "stdout",
     "output_type": "stream",
     "text": [
      "877\n"
     ]
    }
   ],
   "source": [
    "# Iterate directory\n",
    "#for fn in os.listdir(cwd):\n",
    "#    fn_new = re.match(r\"(.*)\\s-\\sr\", fn).group(1) + '.xml'\n",
    "#    os.rename (fn, fn_new)\n",
    "print (len(os.listdir(cwd)))"
   ]
  },
  {
   "cell_type": "markdown",
   "id": "1d431a5e-b3ec-4f81-8658-c8d9214dc20f",
   "metadata": {},
   "source": [
    "### Read and parse ingredient catalogue"
   ]
  },
  {
   "cell_type": "code",
   "execution_count": 2,
   "id": "be164c18-d95a-4d83-ae5c-bbee9141a8ce",
   "metadata": {
    "tags": []
   },
   "outputs": [
    {
     "name": "stdout",
     "output_type": "stream",
     "text": [
      "720\n"
     ]
    }
   ],
   "source": [
    "with open('C:/Users/nlutt\\Documents/Websites/Ingredients/igt-catalog.json', 'r', encoding='utf-8') as f:\n",
    "  igtCat = json.load(f)\n",
    "cat = igtCat.get('ingredients')\n",
    "print (len(cat))\n",
    "#for igt in cat:\n",
    "#    print (igt.get('normName'))"
   ]
  },
  {
   "cell_type": "markdown",
   "id": "354cee54-ff75-47a8-9a3d-ea3e9d6bc154",
   "metadata": {},
   "source": [
    "### Access to ingredient names in recipes (\"given\" names)"
   ]
  },
  {
   "cell_type": "code",
   "execution_count": 4,
   "id": "0392967a-f7bc-4ece-bd9f-e664fa142a67",
   "metadata": {},
   "outputs": [
    {
     "name": "stdout",
     "output_type": "stream",
     "text": [
      "['Schalotte(n)', 'Olivenöl', 'Mehl', 'Milch', 'Ei(er)', 'Butter, flüssige', 'Mangold', 'Lauch', 'Käse (schnittfester Ziegenkäse)', 'Maiskörner, vorgegarte (Dose)', 'Knoblauch', 'Petersilie, fein geschnittene', 'Salz und Pfeffer aus der Mühle', 'Cayennepfeffer', 'Muskat, frisch gerieben']\n"
     ]
    }
   ],
   "source": [
    "no_match_ctr = 0\n",
    "os.chdir('C:/Users/nlutt/Documents/Websites/ckCollections/recipes_xml/03 Mangold')\n",
    "fn = \"Schalottenpfannekuchen mit Ziegenkäse gefüllt.xml\"\n",
    "recipe = minidom.parse (fn)\n",
    "ingredients = recipe.getElementsByTagName(\"fr:igdtName\")\n",
    "rc = []\n",
    "def getIngredientNames(ingredients):\n",
    "    for ingredient in ingredients:\n",
    "        xx = ingredient.childNodes\n",
    "        for x in xx:\n",
    "            if x.nodeType == x.TEXT_NODE:\n",
    "                rc.append(x.data)\n",
    "getIngredientNames (ingredients)\n",
    "print (rc)"
   ]
  },
  {
   "cell_type": "markdown",
   "id": "cb6cb0fe-9274-4761-b306-a7352add7a9a",
   "metadata": {},
   "source": [
    "### Middle and inner loop\n",
    "* inner loop: check, if single given ingredient name appears in ingredient catalogue\n",
    "* middle loop: check for all given names in single recipe\n",
    "\n",
    "Take care that the step above has been executed before you start the inner and middle loop!"
   ]
  },
  {
   "cell_type": "code",
   "execution_count": 9,
   "id": "0cb52db6-30e4-4428-97eb-27c8aad89012",
   "metadata": {},
   "outputs": [
    {
     "name": "stdout",
     "output_type": "stream",
     "text": [
      "     +  schalotte(n)                                 schalotten\n",
      "     +  olivenöl                                     olivenöl\n",
      "     +  mehl                                         weizenmehl\n",
      "     +  milch                                        milch\n",
      "     +  ei(er)                                       ei\n",
      "     +  butter, flüssige                             butter\n",
      "     +  mangold                                      mangold\n",
      "     +  lauch                                        lauch\n",
      "     +  käse (schnittfester ziegenkäse)              ziegenkäse\n",
      "     +  maiskörner, vorgegarte (dose)                mais\n",
      "     +  knoblauch                                    knoblauch\n",
      "     +  petersilie, fein geschnittene                petersilie\n",
      "     +  salz und pfeffer aus der mühle               \n",
      "     +  cayennepfeffer                               cayennepfeffer\n",
      "     +  muskat, frisch gerieben                      muskat\n"
     ]
    }
   ],
   "source": [
    "#middle loop: recipe ingredient name fields\n",
    "for igt_in_rcp in rc:\n",
    "    given = igt_in_rcp.lower()\n",
    "    oder = re.match(r\"(.*)\\soder\\s\",given)\n",
    "    if oder != None:\n",
    "        given = oder.group(1)\n",
    "    matches = []\n",
    "    myMatch = {}\n",
    "    #inner loop: normName and synonymes\n",
    "    for igt in cat:\n",
    "        x = igt.get('normName')\n",
    "        m = re.search (x, given)\n",
    "        if m != None:\n",
    "            start, end = m.span()\n",
    "            if end-start > 0:\n",
    "                #print (end-start, '  ', m.group() )\n",
    "                matching = {}\n",
    "                matching['name']   = igt.get('id')\n",
    "                matching['pos']    = start\n",
    "                matching['length'] = end - start\n",
    "                matches.append(matching) \n",
    "        synos = igt.get('synonyms')\n",
    "        if synos != None:\n",
    "            for syno in synos:\n",
    "                m = re.search (syno, given)\n",
    "                if m != None:\n",
    "                    start, end = m.span()\n",
    "                    if end-start > 0:\n",
    "                        #print (end-start, '  ', m.group() )\n",
    "                        matching = {}\n",
    "                        matching['name']   = igt.get('id')\n",
    "                        matching['pos']    = start\n",
    "                        matching['length'] = end - start\n",
    "                        matches.append(matching)\n",
    "    if len(matches) > 0:\n",
    "        matches_sorted = sorted(matches, key=lambda x: (-x['length'], x['pos']))\n",
    "        myMatch = matches_sorted[0]\n",
    "        print ('+'.rjust(6) + '  ' + given.ljust(45) + myMatch['name'])   \n",
    "    if myMatch == {}:\n",
    "        no_match_ctr += 1\n",
    "#        message = str(no_match_ctr).rjust(6) + '  ' + given.ljust(35) + recipe.getElementsByTagName(\"fr:recipeName\")[0].firstChild.nodeValue\n",
    "        message = str(no_match_ctr).rjust(6) + '  ' + given.ljust(60) + fn\n",
    "        print (message)"
   ]
  },
  {
   "cell_type": "markdown",
   "id": "0cdc0aa7-98b3-44ab-9ade-6d9e4271eb7d",
   "metadata": {},
   "source": [
    "### Outer loop\n",
    "* check for all recipes in collection\n",
    "\n",
    "Take care that the step \"Access to ingredient names in recipes\" has been executed before you start the outer loop!"
   ]
  },
  {
   "cell_type": "code",
   "execution_count": null,
   "id": "d1e8bf3e-5d02-4bcf-bf6c-3e512f611416",
   "metadata": {},
   "outputs": [],
   "source": [
    "def getIngredientNames(ingredients):\n",
    "    for ingredient in ingredients:\n",
    "        xx = ingredient.childNodes\n",
    "        for x in xx:\n",
    "            if x.nodeType == x.TEXT_NODE:\n",
    "                rc.append(x.data)\n",
    "                \n",
    "i = 0\n",
    "no_match_ctr = 0\n",
    "os.chdir('C:/Users/nlutt/Documents/Websites/ckCollections/recipes_xml/03 Mangold')\n",
    "cwd = os.getcwd()\n",
    "for fn in os.listdir(cwd):\n",
    "    #print (fn)\n",
    "    recipe = minidom.parse (fn)\n",
    "    ingredients = recipe.getElementsByTagName(\"fr:igdtName\")\n",
    "    rc = []\n",
    "    getIngredientNames (ingredients)\n",
    "    i += 1\n",
    "    #middle loop: recipe ingredient name fields\n",
    "    for igt_in_rcp in rc:\n",
    "        given = igt_in_rcp.lower()\n",
    "        oder = re.match(r\"(.*)\\soder\\s\",given)\n",
    "        if oder != None:\n",
    "            given = oder.group(1)\n",
    "        matches = []\n",
    "        myMatch = {}\n",
    "        #inner loop: normName and synonymes\n",
    "        for igt in cat:\n",
    "            x = igt.get('normName')\n",
    "            m = re.search (x, given)\n",
    "            if m != None:\n",
    "                start, end = m.span()\n",
    "                if end-start > 0:\n",
    "                    #print (end-start, '  ', m.group() )\n",
    "                    matching = {}\n",
    "                    matching['name']   = igt.get('id')\n",
    "                    matching['pos']    = start\n",
    "                    matching['length'] = end - start\n",
    "                    matches.append(matching) \n",
    "            synos = igt.get('synonyms')\n",
    "            if synos != None:\n",
    "                for syno in synos:\n",
    "                    m = re.search (syno, given)\n",
    "                    if m != None:\n",
    "                        start, end = m.span()\n",
    "                        if end-start > 0:\n",
    "                            #print (end-start, '  ', m.group() )\n",
    "                            matching = {}\n",
    "                            matching['name']   = igt.get('id')\n",
    "                            matching['pos']    = start\n",
    "                            matching['length'] = end - start\n",
    "                            matches.append(matching)\n",
    "        if len(matches) > 0:\n",
    "            matches_sorted = sorted(matches, key=lambda x: (-x['length'], x['pos']))\n",
    "            myMatch = matches_sorted[0]\n",
    "    #        print ('+'.rjust(6) + '  ' + given.ljust(45) + myMatch['name'])   \n",
    "        if myMatch == {}:\n",
    "            no_match_ctr += 1\n",
    "    #        message = str(no_match_ctr).rjust(6) + '  ' + given.ljust(35) + recipe.getElementsByTagName(\"fr:recipeName\")[0].firstChild.nodeValue\n",
    "            message = str(no_match_ctr).rjust(6) + '  ' + given.ljust(60) + fn\n",
    "    #        print (message)"
   ]
  },
  {
   "cell_type": "markdown",
   "id": "b4b1692e-d21f-4a24-b9da-93ec06a49c09",
   "metadata": {},
   "source": [
    "### Set ingredient ref attribute in single recipe\n",
    "* middle and inner loop:"
   ]
  },
  {
   "cell_type": "code",
   "execution_count": 30,
   "id": "4c027bc8-799b-4deb-ab5b-ca4a85001ba9",
   "metadata": {},
   "outputs": [
    {
     "name": "stdout",
     "output_type": "stream",
     "text": [
      "schalotten\n",
      "     +  schalotte(n)                                 schalotten\n",
      "schalotten\n",
      "olivenöl\n",
      "     +  olivenöl                                     olivenöl\n",
      "olivenöl\n",
      "weizenmehl\n",
      "     +  mehl                                         weizenmehl\n",
      "weizenmehl\n",
      "milch\n",
      "     +  milch                                        milch\n",
      "milch\n",
      "ei\n",
      "     +  ei(er)                                       ei\n",
      "ei\n",
      "butter\n",
      "     +  butter, flüssige                             butter\n",
      "butter\n",
      "mangold\n",
      "     +  mangold                                      mangold\n",
      "mangold\n",
      "lauch\n",
      "     +  lauch                                        lauch\n",
      "lauch\n",
      "ziegenkäse\n",
      "     +  käse (schnittfester ziegenkäse)              ziegenkäse\n",
      "ziegenkäse\n",
      "mais\n",
      "     +  maiskörner, vorgegarte (dose)                mais\n",
      "mais\n",
      "knoblauch\n",
      "     +  knoblauch                                    knoblauch\n",
      "knoblauch\n",
      "petersilie\n",
      "     +  petersilie, fein geschnittene                petersilie\n",
      "petersilie\n",
      "\n",
      "     +  salz und pfeffer aus der mühle               \n",
      "\n",
      "cayennepfeffer\n",
      "     +  cayennepfeffer                               cayennepfeffer\n",
      "cayennepfeffer\n",
      "muskat\n",
      "     +  muskat, frisch gerieben                      muskat\n",
      "muskat\n"
     ]
    }
   ],
   "source": [
    "i = 0\n",
    "no_match_ctr = 0\n",
    "os.chdir('C:/Users/nlutt/Documents/Websites/ckCollections/recipes_xml/03 Mangold')\n",
    "cwd = os.getcwd()\n",
    "fn = \"Schalottenpfannekuchen mit Ziegenkäse gefüllt.xml\"\n",
    "recipe = minidom.parse (fn)\n",
    "ingredients = recipe.getElementsByTagName(\"fr:igdtName\")\n",
    "\n",
    "#middle loop: recipe ingredient name fields\n",
    "for ingredient in ingredients:\n",
    "    given = ingredient.firstChild.nodeValue.lower()\n",
    "    #print (ingredient.getAttribute('ref'))\n",
    "    oder = re.match(r\"(.*)\\soder\\s\",given)\n",
    "    if oder != None:\n",
    "        given = oder.group(1)\n",
    "    matches = []\n",
    "    myMatch = {}\n",
    "    \n",
    "    #inner loop: normName and synonymes\n",
    "    for igt in cat:\n",
    "        x = igt.get('normName')\n",
    "        m = re.search (x, given)\n",
    "        if m != None:\n",
    "            start, end = m.span()\n",
    "            if end-start > 0:\n",
    "                #print (end-start, '  ', m.group() )\n",
    "                matching = {}\n",
    "                matching['name']   = igt.get('id')\n",
    "                matching['pos']    = start\n",
    "                matching['length'] = end - start\n",
    "                matches.append(matching) \n",
    "        synos = igt.get('synonyms')\n",
    "        if synos != None:\n",
    "            for syno in synos:\n",
    "                m = re.search (syno, given)\n",
    "                if m != None:\n",
    "                    start, end = m.span()\n",
    "                    if end-start > 0:\n",
    "                        #print (end-start, '  ', m.group() )\n",
    "                        matching = {}\n",
    "                        matching['name']   = igt.get('id')\n",
    "                        matching['pos']    = start\n",
    "                        matching['length'] = end - start\n",
    "                        matches.append(matching)\n",
    "    if len(matches) > 0:\n",
    "        matches_sorted = sorted(matches, key=lambda x: (-x['length'], x['pos']))\n",
    "        myMatch = matches_sorted[0]\n",
    "        #print ('+'.rjust(6) + '  ' + given.ljust(45) + myMatch['name']) \n",
    "        ingredient.setAttribute (\"ref\", myMatch['name'])\n",
    "        #print (ingredient.getAttribute('ref'))\n",
    "    if myMatch == {}:\n",
    "        no_match_ctr += 1\n",
    "#        message = str(no_match_ctr).rjust(6) + '  ' + given.ljust(35) + recipe.getElementsByTagName(\"fr:recipeName\")[0].firstChild.nodeValue\n",
    "        message = str(no_match_ctr).rjust(6) + '  ' + given.ljust(60) + fn\n",
    "#        print (message)\n",
    "\n",
    "rn = recipe.getElementsByTagName(\"fr:recipeName\")[0].firstChild\n",
    "rn_new = rn.nodeValue[rn.nodeValue.index(\" - \")+3:]\n",
    "#print (rn_new) \n",
    "rn.replaceWholeText(rn_new)\n",
    "#print(recipe.getElementsByTagName(\"fr:recipeName\")[0].firstChild.nodeValue)\n",
    "rcp_str = str(recipe.toxml())\n",
    "#print(fn)\n",
    "with codecs.open(fn, 'w', encoding = 'utf8') as file:\n",
    "  file.write(rcp_str)"
   ]
  },
  {
   "cell_type": "markdown",
   "id": "1ed3f978-8797-4d4c-ac3a-a8f14e65511e",
   "metadata": {},
   "source": [
    "### Replace recipe name\n",
    "New and old recipe name:"
   ]
  },
  {
   "cell_type": "code",
   "execution_count": 26,
   "id": "1a82db6f-a4c8-4860-b652-03845460658f",
   "metadata": {},
   "outputs": [
    {
     "name": "stdout",
     "output_type": "stream",
     "text": [
      "Schalottenpfannekuchen mit Ziegenkäse gefüllt\n"
     ]
    }
   ],
   "source": [
    "#rn = recipe.getElementsByTagName(\"fr:recipeName\")[0].firstChild\n",
    "#rn_new = rn.nodeValue[rn.nodeValue.index(\" - \")+3:]\n",
    "#print (rn_new) \n",
    "#rn.replaceWholeText(rn_new)\n",
    "print(recipe.getElementsByTagName(\"fr:recipeName\")[0].firstChild.nodeValue)"
   ]
  },
  {
   "cell_type": "markdown",
   "id": "d1573850-31e3-42f8-8e6e-9d97c93ba9bd",
   "metadata": {},
   "source": [
    "### Apply replacements to all recipes in collection"
   ]
  },
  {
   "cell_type": "code",
   "execution_count": 3,
   "id": "1fde486f-1975-4938-969c-80f7dc2aaa83",
   "metadata": {},
   "outputs": [],
   "source": [
    "no_match_ctr = 0\n",
    "os.chdir('C:/Users/nlutt/Documents/Websites/ckCollections/recipes_xml/03 Mangold')\n",
    "cwd = os.getcwd()\n",
    "\n",
    "#outer loop: collection\n",
    "for fn in os.listdir(cwd):\n",
    "    if re.match(r\"^\\d\\d\", fn) == None:\n",
    "        recipe = minidom.parse (fn)\n",
    "        ingredients = recipe.getElementsByTagName(\"fr:igdtName\")\n",
    "\n",
    "        #middle loop: recipe \n",
    "        for ingredient in ingredients:\n",
    "            given = ingredient.firstChild.nodeValue.lower()\n",
    "            #print (ingredient.getAttribute('ref'))\n",
    "            oder = re.match(r\"(.*)\\soder\\s\",given)\n",
    "            if oder != None:\n",
    "                given = oder.group(1)\n",
    "            matches = []\n",
    "            myMatch = {}\n",
    "\n",
    "            #inner loop: ingredient names\n",
    "            for igt in cat:\n",
    "                x = igt.get('normName')\n",
    "                m = re.search (x, given)\n",
    "                if m != None:\n",
    "                    start, end = m.span()\n",
    "                    if end-start > 0:\n",
    "                        #print (end-start, '  ', m.group() )\n",
    "                        matching = {}\n",
    "                        matching['name']   = igt.get('id')\n",
    "                        matching['pos']    = start\n",
    "                        matching['length'] = end - start\n",
    "                        matches.append(matching) \n",
    "                synos = igt.get('synonyms')\n",
    "                if synos != None:\n",
    "                    for syno in synos:\n",
    "                        m = re.search (syno, given)\n",
    "                        if m != None:\n",
    "                            start, end = m.span()\n",
    "                            if end-start > 0:\n",
    "                                #print (end-start, '  ', m.group() )\n",
    "                                matching = {}\n",
    "                                matching['name']   = igt.get('id')\n",
    "                                matching['pos']    = start\n",
    "                                matching['length'] = end - start\n",
    "                                matches.append(matching)\n",
    "            if len(matches) > 0:\n",
    "                matches_sorted = sorted(matches, key=lambda x: (-x['length'], x['pos']))\n",
    "                myMatch = matches_sorted[0]\n",
    "                #print ('+'.rjust(6) + '  ' + given.ljust(45) + myMatch['name']) \n",
    "                ingredient.setAttribute (\"ref\", myMatch['name'])\n",
    "                #print (ingredient.getAttribute('ref'))\n",
    "            if myMatch == {}:\n",
    "                no_match_ctr += 1\n",
    "        #        message = str(no_match_ctr).rjust(6) + '  ' + given.ljust(35) + recipe.getElementsByTagName(\"fr:recipeName\")[0].firstChild.nodeValue\n",
    "                message = str(no_match_ctr).rjust(6) + '  ' + given.ljust(60) + fn\n",
    "        #        print (message)\n",
    "\n",
    "        #recipe name without introducing 'recipe13793749274 - '\n",
    "        #rn = recipe.getElementsByTagName(\"fr:recipeName\")[0].firstChild\n",
    "        #rn_new = rn.nodeValue[rn.nodeValue.index(\" - \")+3:]\n",
    "        #print (rn_new) \n",
    "        #rn.replaceWholeText(rn_new)\n",
    "        #print(recipe.getElementsByTagName(\"fr:recipeName\")[0].firstChild.nodeValue)\n",
    "        rcp_str = str(recipe.toxml())\n",
    "        #print(fn)\n",
    "        with codecs.open(fn, 'w', encoding = 'utf8') as file:\n",
    "          file.write(rcp_str)"
   ]
  },
  {
   "cell_type": "code",
   "execution_count": null,
   "id": "80187142-52c1-4f93-80d0-eefc49f28861",
   "metadata": {},
   "outputs": [],
   "source": []
  }
 ],
 "metadata": {
  "kernelspec": {
   "display_name": "Python 3 (ipykernel)",
   "language": "python",
   "name": "python3"
  },
  "language_info": {
   "codemirror_mode": {
    "name": "ipython",
    "version": 3
   },
   "file_extension": ".py",
   "mimetype": "text/x-python",
   "name": "python",
   "nbconvert_exporter": "python",
   "pygments_lexer": "ipython3",
   "version": "3.10.7"
  }
 },
 "nbformat": 4,
 "nbformat_minor": 5
}
