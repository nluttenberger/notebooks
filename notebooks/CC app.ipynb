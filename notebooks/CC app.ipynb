{
 "cells": [
  {
   "cell_type": "code",
   "execution_count": 1,
   "metadata": {},
   "outputs": [
    {
     "ename": "ModuleNotFoundError",
     "evalue": "No module named 'CCmod'",
     "output_type": "error",
     "traceback": [
      "\u001b[1;31m---------------------------------------------------------------------------\u001b[0m",
      "\u001b[1;31mModuleNotFoundError\u001b[0m                       Traceback (most recent call last)",
      "Cell \u001b[1;32mIn[1], line 1\u001b[0m\n\u001b[1;32m----> 1\u001b[0m \u001b[38;5;28;01mimport\u001b[39;00m \u001b[38;5;21;01mCCmod\u001b[39;00m \u001b[38;5;28;01mas\u001b[39;00m \u001b[38;5;21;01mcc\u001b[39;00m\n\u001b[0;32m      3\u001b[0m HD_YO \u001b[38;5;241m=\u001b[39m cc\u001b[38;5;241m.\u001b[39mRecipeCollection(\u001b[38;5;124m'\u001b[39m\u001b[38;5;124mC:/Users/nlutt/Documents/Websites/graphLab/\u001b[39m\u001b[38;5;124m'\u001b[39m,\n\u001b[0;32m      4\u001b[0m                          \u001b[38;5;124m'\u001b[39m\u001b[38;5;124mcurrentDescriptor compareHD-YO.xml\u001b[39m\u001b[38;5;124m'\u001b[39m,\n\u001b[0;32m      5\u001b[0m                          \u001b[38;5;124m'\u001b[39m\u001b[38;5;124mC:/Users/nlutt/myPyPro/second/data/igt_cat.json\u001b[39m\u001b[38;5;124m'\u001b[39m,\n\u001b[0;32m      6\u001b[0m                          \u001b[38;5;124m'\u001b[39m\u001b[38;5;124mC:/Users/nlutt/myPyPro/second/data/\u001b[39m\u001b[38;5;124m'\u001b[39m)\n\u001b[0;32m      7\u001b[0m \u001b[38;5;28mprint\u001b[39m (HD_YO)\n",
      "\u001b[1;31mModuleNotFoundError\u001b[0m: No module named 'CCmod'"
     ]
    }
   ],
   "source": [
    "import CCmod as cc\n",
    "\n",
    "HD_YO = cc.RecipeCollection('C:/Users/nlutt/Documents/Websites/graphLab/',\n",
    "                         'currentDescriptor compareHD-YO.xml',\n",
    "                         'C:/Users/nlutt/myPyPro/second/data/igt_cat.json',\n",
    "                         'C:/Users/nlutt/myPyPro/second/data/')\n",
    "print (HD_YO)\n",
    "\n",
    "xxid = HD_YO.getIgtID('Möhren')\n",
    "if xxid == None:\n",
    "    print ('none')\n",
    "if len(xxid) == 0:\n",
    "    print ('null')\n",
    "print (xxid)\n",
    "\n",
    "print (HD_YO.infoSubcolls(), '\\n')\n",
    "\n",
    "print ('Anz. Rezepte in subcoll A: ', len(HD_YO.recipesList('A')))\n",
    "print ('Anz. Rezepte in subcoll B: ', len(HD_YO.recipesList('B')), '\\n')\n",
    "\n",
    "print ('Anz. Zutaten in subcoll A: ', len(HD_YO.ingredientsList('A')))\n",
    "print ('Anz. Zutaten in subcoll B: ', len(HD_YO.ingredientsList('B')), '\\n')\n",
    "\n",
    "print ('Anz. Zutaten in class veg: ', len(HD_YO.catalogList('veg')), '\\n')\n",
    "print ('ei, brot in ingredients cat: ', HD_YO.catalogList(['ei','brot']), '\\n')\n",
    "\n",
    "sims = HD_YO.cosine_sim()\n",
    "print ('cosine similarity of ingredient class vectors')\n",
    "for k, v in sims.items():\n",
    "    print(\"{:<8} {:<15}\".format(k, v))\n",
    "\n",
    "print (f'Entropy A: {HD_YO.entropy().get(\"entropy_A\")}\\nEntropy B: {HD_YO.entropy().get(\"entropy_B\")}\\n')\n",
    "\n",
    "G = HD_YO.toGraph(['A','B'])\n",
    "print ('G', G, '\\n')\n",
    "HD_YO.toCSV  (G, 'C:/Users/nlutt/myPyPro/second/data/', 'HD_YO.csv')\n",
    "HD_YO.toGEXF(G, 'C:/Users/nlutt/myPyPro/second/data/', 'HD_YO.gexf')\n",
    "\n",
    "A_n = HD_YO.nodeSets(G,'A')\n",
    "print (f\"node set pure A: {len(A_n)} nodes\")\n",
    "B_n = HD_YO.nodeSets(G,'B')\n",
    "print (f\"node set pure B: {len(B_n)} nodes\")\n",
    "AB_n = HD_YO.nodeSets(G, ['A','B'])\n",
    "print (f\"node set     AB: {len(AB_n)} nodes\")\n",
    "\n",
    "print ('edge set pure A:  ', len(HD_YO.edgeSets(G,['A','B']).get('A_e_pure')))\n",
    "print ('edge set pure B:  ', len(HD_YO.edgeSets(G,['A','B']).get('B_e_pure')))\n",
    "print ('edge set AB:      ', len(HD_YO.edgeSets(G,['A','B']).get('AB_e_intersect')))\n",
    "print ('edge set mixed A: ', len(HD_YO.edgeSets(G,['A','B']).get('A_e_mixed')))\n",
    "print ('edge set mixed B: ', len(HD_YO.edgeSets(G,['A','B']).get('B_e_mixed')))\n",
    "\n",
    "print ('Krack A: ', HD_YO.Krack(G, 'A').get('Krack_A'))\n",
    "print ('Krack for ei and butter: ', HD_YO.Krack(G, ['ei','butter']))\n",
    "\n",
    "HD_YO.previewSVG(G,1.0)\n",
    "\n",
    "HD_YO.createRefs4Recipe('Nix')"
   ]
  }
 ],
 "metadata": {
  "kernelspec": {
   "display_name": "Python 3",
   "language": "python",
   "name": "python3"
  },
  "language_info": {
   "codemirror_mode": {
    "name": "ipython",
    "version": 3
   },
   "file_extension": ".py",
   "mimetype": "text/x-python",
   "name": "python",
   "nbconvert_exporter": "python",
   "pygments_lexer": "ipython3",
   "version": "3.11.0"
  }
 },
 "nbformat": 4,
 "nbformat_minor": 2
}
