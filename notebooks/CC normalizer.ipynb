{
 "cells": [
  {
   "cell_type": "markdown",
   "metadata": {},
   "source": []
  },
  {
   "cell_type": "markdown",
   "metadata": {},
   "source": [
    "## Normalizer: Query the ingredient catalogue"
   ]
  },
  {
   "cell_type": "markdown",
   "metadata": {},
   "source": [
    "#### Imports"
   ]
  },
  {
   "cell_type": "code",
   "execution_count": 1,
   "metadata": {},
   "outputs": [
    {
     "name": "stderr",
     "output_type": "stream",
     "text": [
      "C:\\Users\\nlutt\\AppData\\Local\\Temp\\ipykernel_924\\462643338.py:16: DeprecationWarning: \n",
      "Pyarrow will become a required dependency of pandas in the next major release of pandas (pandas 3.0),\n",
      "(to allow more performant data types, such as the Arrow string type, and better interoperability with other libraries)\n",
      "but was not found to be installed on your system.\n",
      "If this would cause problems for you,\n",
      "please provide us feedback at https://github.com/pandas-dev/pandas/issues/54466\n",
      "        \n",
      "  import pandas as pd\n"
     ]
    }
   ],
   "source": [
    "import io\n",
    "import sys\n",
    "import os\n",
    "import re\n",
    "import math\n",
    "from xml.etree import ElementTree as ET\n",
    "import urllib.parse\n",
    "import json\n",
    "import codecs\n",
    "import subprocess\n",
    "#!{sys.executable} -m pip install --upgrade pip\n",
    "#!{sys.executable} -m pip install networkx\n",
    "import networkx as nx\n",
    "from networkx.algorithms import bipartite\n",
    "#!{sys.executable} -m pip install pandas\n",
    "import pandas as pd\n",
    "#!{sys.executable} -m pip install numpy\n",
    "import numpy as np\n",
    "from numpy import dot\n",
    "from numpy.linalg import norm\n",
    "#!{sys.executable} -m pip install scipy\n",
    "from scipy.stats import entropy\n",
    "from collections import Counter\n",
    "import locale\n",
    "locale.setlocale(locale.LC_ALL, 'de-DE.utf-8')\n",
    "pd.set_option('display.max_rows', 500)\n",
    "pd.set_option('display.max_columns', 500)\n",
    "pd.set_option('display.width', 1000)"
   ]
  },
  {
   "cell_type": "markdown",
   "metadata": {},
   "source": [
    "#### Class Normalizer"
   ]
  },
  {
   "cell_type": "code",
   "execution_count": 35,
   "metadata": {},
   "outputs": [],
   "source": [
    "class Normalizer: \n",
    "\n",
    "    def __init__(self, igdtCat_path=None, working_dir=None):\n",
    "        # read ingredients catalogue   \n",
    "        with open(igdtCat_path, encoding='utf-8') as file:\n",
    "            self.cat = json.load(file)\n",
    "            self.catIngredients = self.cat.get('ingredients')\n",
    "            self.catClasses     = self.cat.get('classes')\n",
    "        \n",
    "        #create the inverted index as dict\n",
    "        self.index = dict()\n",
    "        for igt in self.catIngredients.items():\n",
    "            x = dict()\n",
    "            k = igt[0]\n",
    "            x = {k:k}\n",
    "            self.index.update(x)\n",
    "            y = dict()\n",
    "            for syn in igt[1].get('synonyms'):\n",
    "                y = {syn:k}\n",
    "                self.index.update(y)\n",
    "\n",
    "    def __str__(self):\n",
    "        print_str = f\"Ingredients catalog with entries for {len(self.catIngredients)} distinct ingredients in {len(self.catClasses)} classes\\n\"\n",
    "        return print_str\n",
    "\n",
    "    def getIgtID (self, given):\n",
    "        match = 0\n",
    "        xxid = ''\n",
    "        for k,v in self.index.items():\n",
    "            if k in given.lower():\n",
    "                if len(k) > match:\n",
    "                    match = len(k)\n",
    "                    xxid = v\n",
    "        return xxid"
   ]
  },
  {
   "cell_type": "markdown",
   "metadata": {},
   "source": [
    "#### Invoke normalizer"
   ]
  },
  {
   "cell_type": "code",
   "execution_count": 40,
   "metadata": {},
   "outputs": [
    {
     "name": "stdout",
     "output_type": "stream",
     "text": [
      "Ingredients catalog with entries for 717 distinct ingredients in 16 classes\n",
      "\n",
      "null\n",
      "\n"
     ]
    }
   ],
   "source": [
    "myCat = Normalizer('C:/Users/nlutt/myPyPro/second/data/igt_cat.json', 'C:/Users/nlutt/myPyPro/second/data/')\n",
    "print (myCat)\n",
    "#print (myCat.lcs('ketjap manis','ketjap manis'))\n",
    "xxid = myCat.getIgtID('Salz')\n",
    "if xxid == None:\n",
    "    print ('none')\n",
    "if len(xxid) == 0:\n",
    "    print ('null')\n",
    "print (xxid)"
   ]
  },
  {
   "cell_type": "markdown",
   "metadata": {},
   "source": [
    "## Collector for unused snippets"
   ]
  },
  {
   "cell_type": "markdown",
   "metadata": {},
   "source": [
    "#### Longest matching substring"
   ]
  },
  {
   "cell_type": "code",
   "execution_count": null,
   "metadata": {},
   "outputs": [],
   "source": [
    "def lcs (self, str1, str2):\n",
    "    ans = 0\n",
    "    res = ''\n",
    "    for a in range(len(str1)):\n",
    "        for b in range(len(str2)):\n",
    "            k = 0\n",
    "            while ((a + k) < len(str1) and (b + k) < len(str2) and str1[a + k] == str2[b + k]):\n",
    "                k = k + 1\n",
    "            if k > ans:\n",
    "                ans = k\n",
    "                res = str1[a:a+k]\n",
    "    return res;"
   ]
  }
 ],
 "metadata": {
  "kernelspec": {
   "display_name": "Python 3",
   "language": "python",
   "name": "python3"
  },
  "language_info": {
   "codemirror_mode": {
    "name": "ipython",
    "version": 3
   },
   "file_extension": ".py",
   "mimetype": "text/x-python",
   "name": "python",
   "nbconvert_exporter": "python",
   "pygments_lexer": "ipython3",
   "version": "3.11.0"
  }
 },
 "nbformat": 4,
 "nbformat_minor": 2
}
