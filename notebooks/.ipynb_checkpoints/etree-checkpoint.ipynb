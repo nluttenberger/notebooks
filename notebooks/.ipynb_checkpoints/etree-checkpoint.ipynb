{
 "cells": [
  {
   "cell_type": "code",
   "execution_count": 1,
   "id": "a820ef69-c023-4033-a1e7-af21144a01cd",
   "metadata": {},
   "outputs": [],
   "source": [
    "import io\n",
    "import os\n",
    "import re\n",
    "from xml.etree import ElementTree as ET\n",
    "import json\n",
    "import codecs\n",
    "import networkx as nx\n",
    "from networkx.algorithms import bipartite\n",
    "import pandas as pd\n",
    "import numpy as np\n",
    "import matplotlib.pyplot as plt\n",
    "from collections import Counter\n",
    "import locale\n",
    "locale.setlocale(locale.LC_ALL, 'de-DE.utf-8')\n",
    "pd.set_option('display.max_rows', 500)\n",
    "pd.set_option('display.max_columns', 500)\n",
    "pd.set_option('display.width', 1000)"
   ]
  },
  {
   "cell_type": "markdown",
   "id": "c5014b3a-7c1c-40fe-8ea9-4587a766aa21",
   "metadata": {},
   "source": [
    "#### Read SVG file and parse root"
   ]
  },
  {
   "cell_type": "code",
   "execution_count": 22,
   "id": "a8f4826f-dee0-4931-9390-f29ffb43e3be",
   "metadata": {},
   "outputs": [
    {
     "name": "stdout",
     "output_type": "stream",
     "text": [
      "{'brot--butter': 'M745.526,-1799.83C751.485,-1622.99 763.384,-1269.91 770.677,-1053.5', 'brot--ei': 'M835.409,-1853.74C943.559,-1791.09 1123.37,-1686.93 1253.46,-1611.56', 'brot--speck': 'M806.726,-1821.2C903.032,-1692.41 1085.09,-1448.95 1202.35,-1292.14', 'brot--steinpilz': 'M645.7,-1857.65C590.431,-1828.77 521.25,-1792.62 466.049,-1763.78', 'brot--zwiebel': 'M695.654,-1810.07C633.992,-1679.57 523.94,-1446.66 449.226,-1288.53', 'butter--ei': 'M904.989,-1001.5C1015.24,-1114.19 1173.48,-1275.95 1283.75,-1388.67', 'butter--speck': 'M939.945,-954.328C1006.2,-988.378 1082.59,-1027.64 1148.84,-1061.69', 'butter--steinpilz': 'M697.245,-1035.59C613.847,-1208.55 485.646,-1474.44 417.179,-1616.44', 'butter--zwiebel': 'M621.364,-967.17C590.272,-986.501 557.605,-1006.81 526.51,-1026.14', 'butter--weizenmehl': 'M910.582,-745.258C983.962,-676.537 1074.68,-591.581 1148.1,-522.823', 'butter--lauch': 'M616.345,-782.358C504.877,-721.14 360.142,-641.652 266.664,-590.314', 'butter--muskat': 'M662.673,-727.432C561.373,-600.489 416.8,-419.32 332.831,-314.095', 'butter--sahne': 'M748.322,-689.318C725.061,-541.548 692.992,-337.829 673.647,-214.935', 'ei--speck': 'M1364.68,-1342.77C1362.86,-1335.97 1361.04,-1329.14 1359.22,-1322.34', 'ei--steinpilz': 'M1232,-1553.25C1014.13,-1593.83 654.344,-1660.83 476.521,-1693.94', 'ei--zwiebel': 'M1240.94,-1454.54C1047.79,-1380.9 735.314,-1261.77 542.11,-1188.12', 'ei--erbsen': 'M1560.21,-1412.19C1655.94,-1342.74 1777.23,-1254.74 1857.87,-1196.23', 'ei--karotte': 'M1504.84,-1361.8C1608.77,-1185.07 1773.69,-904.599 1858.77,-759.915', 'ei--kartoffel': 'M1578.04,-1442.77C1827.13,-1327.32 2294.8,-1110.56 2543.97,-995.077', 'ei--weizenmehl': 'M1390.92,-1337.85C1366.75,-1129.01 1327.34,-788.432 1303.16,-579.487', 'speck--steinpilz': 'M1155.15,-1240.16C957.4,-1359.47 623.833,-1560.74 462.778,-1657.91', 'speck--zwiebel': 'M1128.86,-1141.12C962.978,-1137.12 719.836,-1131.27 553.977,-1127.27', 'speck--weizenmehl': 'M1304.67,-962.504C1300.02,-846.347 1294.04,-696.593 1289.4,-580.425', 'steinpilz--zwiebel': 'M370.393,-1605.7C370.489,-1522.03 370.624,-1404.21 370.736,-1305.9', 'brühe--butter': 'M989.876,-816.528C978.086,-819.515 966.209,-822.524 954.419,-825.512', 'brühe--ei': 'M1224.34,-945.536C1263.66,-1065.89 1315.78,-1225.39 1355.11,-1345.74', 'brühe--speck': 'M1233.49,-942.387C1237.65,-953.167 1241.85,-964.019 1246.01,-974.798', 'brühe--zwiebel': 'M1000.01,-845.394C864.373,-905.222 674.198,-989.104 538.528,-1048.95', 'brühe--erbsen': 'M1333.89,-848.792C1490.11,-921.324 1718.51,-1027.37 1847.41,-1087.22', 'brühe--karotte': 'M1349.03,-746.04C1492.23,-725.935 1687.07,-698.578 1806.38,-681.828', 'brühe--kartoffel': 'M1349.74,-788.84C1646.53,-817.029 2230.88,-872.529 2527.77,-900.726', 'brühe--weizenmehl': 'M1221.09,-596.488C1223.54,-588.499 1225.99,-580.481 1228.44,-572.492', 'brühe--lauch': 'M989.217,-729.77C781.967,-681.218 446.732,-602.684 277.265,-562.984', 'brühe--muskat': 'M1010.58,-677.258C822.063,-563.986 511.966,-377.661 357.992,-285.144', 'brühe--sahne': 'M1055.72,-626.325C954.014,-494.169 807.269,-303.495 723.027,-194.035', 'erbsen--speck': 'M1837.25,-1134.91C1743.52,-1136.8 1605.93,-1139.59 1495.08,-1141.83', 'erbsen--karotte': 'M1938.04,-1024.95C1932.9,-949.819 1926.07,-849.981 1920.93,-774.799', 'erbsen--kartoffel': 'M2049.75,-1103.43C2174.11,-1068.53 2383.87,-1009.64 2533.63,-967.605', 'erbsen--weizenmehl': 'M1872.85,-1052.27C1760.23,-927.422 1542.08,-685.573 1404.7,-533.277', 'karotte--speck': 'M1828.94,-734.108C1732.1,-811.178 1571.86,-938.703 1455.42,-1031.38', 'karotte--kartoffel': 'M2016.87,-699.374C2148.21,-740.804 2376.93,-812.944 2535.57,-862.981', 'karotte--weizenmehl': 'M1814.18,-624.387C1716.84,-582.854 1566.64,-518.765 1450.62,-469.256', 'kartoffel--speck': 'M2529.52,-947.44C2261.36,-991.069 1760.85,-1072.5 1492.67,-1116.13', 'kartoffel--weizenmehl': 'M2537.9,-855.241C2263.14,-755.057 1728.74,-560.203 1454.12,-460.071', 'kartoffel--lauchzwiebel': 'M2893.33,-923.517C3087.59,-929.316 3387.96,-938.282 3547.53,-943.045', 'kartoffel--olivenöl': 'M2885.19,-863.913C3168.18,-776.383 3717.5,-606.478 3945.72,-535.892', 'kartoffel--räucherspeck': 'M2874.93,-998.055C3067.55,-1091.58 3379.98,-1243.29 3537.46,-1319.75', 'kartoffel--zitrone': 'M2890.9,-946.805C3210.59,-997.668 3866.29,-1101.99 4123.51,-1142.91', 'weizenmehl--zwiebel': 'M1138.72,-511.504C968.075,-647.382 684.833,-872.921 514.229,-1008.77', 'lauch--zwiebel': 'M206.881,-640.812C235.856,-725.943 277.711,-848.921 311.893,-949.354', 'lauch--weizenmehl': 'M279.196,-524.711C469.171,-500.584 866.856,-450.078 1100.32,-420.428', 'lauch--muskat': 'M203.317,-434.608C213.213,-401.833 224.144,-365.629 234.035,-332.873', 'lauch--sahne': 'M252.874,-466.54C342.452,-387.03 486.041,-259.579 575.711,-179.988', 'muskat--zwiebel': 'M277.963,-336.755C295.65,-486.281 327.947,-759.329 349.431,-940.965', 'muskat--weizenmehl': 'M372.164,-247.083C545.399,-275.69 889.392,-332.496 1101.24,-367.48', 'muskat--sahne': 'M368.655,-197.367C425.75,-179.66 496.448,-157.734 553.528,-140.032', 'sahne--zwiebel': 'M627.431,-212.312C578.632,-385.552 480.347,-734.476 420.62,-946.515', 'sahne--weizenmehl': 'M754.856,-153.369C851.434,-198.06 1000.81,-267.184 1115.94,-320.461', 'dill--kartoffel': 'M4094.72,-839.65C3841.61,-853.982 3207.57,-889.885 2893.02,-907.696', 'dill--gurke': 'M4105.99,-784.811C4002.84,-732.813 3840.36,-650.913 3737.15,-598.886', 'dill--lauchzwiebel': 'M4096.57,-855.409C3999.97,-875.323 3858.09,-904.571 3761.58,-924.466', 'dill--olivenöl': 'M4156.97,-735.542C4137.29,-693.321 4114.32,-644.058 4094.65,-601.848', 'dill--räucherspeck': 'M4123.7,-907.715C4015.35,-1009.49 3821.75,-1191.36 3713.52,-1293.03', 'dill--zitrone': 'M4211.83,-941.313C4214.86,-976.964 4218.23,-1016.62 4221.26,-1052.26', 'gurke--kartoffel': 'M3539.91,-589.812C3381.95,-652.299 3073.59,-774.282 2880.51,-850.663', 'gurke--lauchzwiebel': 'M3644.55,-658.083C3646.73,-714.105 3649.39,-782.342 3651.58,-838.353', 'gurke--olivenöl': 'M3747.71,-537.961C3807.54,-531.206 3881.81,-522.821 3941.64,-516.066', 'gurke--räucherspeck': 'M3639.6,-658.143C3638.53,-814.579 3636.57,-1102.48 3635.51,-1258.93', 'gurke--zitrone': 'M3715.67,-627.939C3828.92,-744.981 4041.81,-964.996 4155.07,-1082.05', 'lauchzwiebel--olivenöl': 'M3727.68,-865.403C3798.49,-785.752 3906.05,-664.756 3976.92,-585.031', 'lauchzwiebel--räucherspeck': 'M3650.39,-1054.35C3647.25,-1117.17 3643.31,-1196.07 3640.17,-1258.89', 'lauchzwiebel--zitrone': 'M3757.2,-983.98C3861.91,-1022.91 4024.36,-1083.31 4129.06,-1122.24', 'olivenöl--räucherspeck': 'M4002.09,-601.689C3922.34,-767.85 3761.25,-1103.48 3681.58,-1269.48', 'olivenöl--zitrone': 'M4077.85,-608.248C4111.77,-730.885 4167.72,-933.208 4201.62,-1055.78', 'räucherspeck--zitrone': 'M3736.83,-1331.52C3846.21,-1293.5 4018.82,-1233.49 4128.24,-1195.44'}\n",
      "<svg xmlns=\"http://www.w3.org/2000/svg\" version=\"1.1\">\n",
      "  <defs>\n",
      "    <g id=\"A_edges_pure\" />\n",
      "    <g id=\"A_edges_mixed\" />\n",
      "    <g id=\"B_edges_pure\" />\n",
      "    <g id=\"B_edges_mixed\" />\n",
      "    <g id=\"AB_edges\" />\n",
      "    <g id=\"A_nodes\" />\n",
      "    <g id=\"B_nodes\" />\n",
      "    <g id=\"AB_nodes\" />\n",
      "  </defs>\n",
      "</svg>\n"
     ]
    }
   ],
   "source": [
    "def func(lst1,lst2):\n",
    "    d2 = dict(lst2)\n",
    "    return [(k,a,d2[k]) for (k,a) in lst1 if d2.has_key(k)] \n",
    "\n",
    "\n",
    "os.chdir('C:/Users/nlutt/Documents/Websites/graphLab/sampleSpaces/compareDev/graphs')\n",
    "with open('svgGraph-poor.svg', 'r', encoding='utf-8') as f:\n",
    "    svg_in = ET.parse(f)\n",
    "    root_in = svg_in.getroot()\n",
    "    ns = {'svg': 'http://www.w3.org/2000/svg'}\n",
    "    \n",
    "    edges = root_in.findall('svg:g/svg:g[@class=\"edge\"]',ns)\n",
    "    \n",
    "    xx = [e.find('svg:title',ns).text for e in edges]\n",
    "    yy = {e.find('svg:title',ns).text:e.find('svg:path',ns).get('d') for e in edges}\n",
    "    for e in edges:\n",
    "        pass\n",
    "        #print(e.find('svg:title',ns).text)\n",
    "        #print(e.find('svg:path',ns).get('d'))\n",
    "    #xx = [k for k in root_in.findall(('svg:g/svg:g[@class=\"edge\"]/svg:title').text,ns)]\n",
    "    print (yy)\n",
    "        \n",
    "    #nodes = root.findall('svg:g/svg:g[@class=\"node\"]',ns)\n",
    "    #for n in nodes:\n",
    "        #print (n.find('svg:title',ns).text)\n",
    "        \n",
    "    svg_out = ET.Element('svg', xmlns='http://www.w3.org/2000/svg', version='1.1')\n",
    "    #svg_out.set('xmlns','http://www.w3.org/2000/svg', 'version', '1.1')\n",
    "    defs = ET.SubElement(svg_out,'defs')\n",
    "    edges_A_pure = ET.SubElement(defs,'g').set('id','A_edges_pure')\n",
    "    edges_A_mixed = ET.SubElement(defs,'g').set('id','A_edges_mixed')\n",
    "    edges_B_pure = ET.SubElement(defs,'g').set('id','B_edges_pure')\n",
    "    edges_B_mixed = ET.SubElement(defs,'g').set('id','B_edges_mixed')\n",
    "    edges_AB = ET.SubElement(defs,'g').set('id','AB_edges')\n",
    "    nodes_A = ET.SubElement(defs,'g').set('id','A_nodes')\n",
    "    nodes_B = ET.SubElement(defs,'g').set('id','B_nodes')\n",
    "    nodes_AB = ET.SubElement(defs,'g').set('id','AB_nodes')\n",
    "    ET.indent(svg_out)\n",
    "    ET.dump(svg_out)"
   ]
  },
  {
   "cell_type": "code",
   "execution_count": null,
   "id": "74b374a9-05c7-4c4c-a362-d2715c65c1eb",
   "metadata": {},
   "outputs": [],
   "source": []
  }
 ],
 "metadata": {
  "kernelspec": {
   "display_name": "Python 3 (ipykernel)",
   "language": "python",
   "name": "python3"
  },
  "language_info": {
   "codemirror_mode": {
    "name": "ipython",
    "version": 3
   },
   "file_extension": ".py",
   "mimetype": "text/x-python",
   "name": "python",
   "nbconvert_exporter": "python",
   "pygments_lexer": "ipython3",
   "version": "3.10.7"
  }
 },
 "nbformat": 4,
 "nbformat_minor": 5
}
