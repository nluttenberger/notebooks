{
 "cells": [
  {
   "cell_type": "code",
   "execution_count": null,
   "metadata": {},
   "outputs": [],
   "source": [
    "import requests\n",
    "from bs4 import BeautifulSoup\n",
    "from xmlbuilder import XMLBuilder\n",
    "import uuid\n",
    "import os\n",
    "\n",
    "parsedCount = 0\n",
    "pageCount = 0\n",
    "rcpCount = 916\n",
    "\n",
    "def build_rcp_initial(book, chap):\n",
    "    id = f'ck-{uuid.uuid4()}'\n",
    "    fr = 'http://fruschtique.de/ns/recipe'\n",
    "    xsi = 'http://www.w3.org/2001/XMLSchema-instance'\n",
    "\n",
    "    recipe = XMLBuilder()\n",
    "    with recipe.fr_('fr:recipe', attrib={'xmlns:xsi': xsi, 'xsi:schemaLocation': fr + ' file:///c:/Users/nlutt/Documents/Websites/tools/recipe.xsd', 'rcpID': id}):\n",
    "        with recipe.fr_('fr:meta'):\n",
    "            recipe.fr_('fr:book').txt(book)\n",
    "            recipe.fr_('fr:chapter').txt(chap)\n",
    "        recipe.fr_('fr:recipeName').txt(chap)\n",
    "        recipe.fr_('fr:recipeKeywords')\n",
    "        recipe.fr_('fr:recipeIntro')\n",
    "        with recipe.fr_('fr:recipeIngredients'):\n",
    "            with recipe.fr_('fr:igdtList'):\n",
    "                recipe.fr_('fr:igdtListName')\n",
    "                with recipe.fr_('fr:igdtListLine'):\n",
    "                    recipe.fr_('fr:igdtQuantity')\n",
    "                    recipe.fr_('fr:igdtName')\n",
    "        recipe.fr_('fr:recipeInstructions').fr_('fr:instruction').fr_('fr:instrStepName').fr_('fr:instrStepText')\n",
    "        recipe.fr_('fr:recipeSideDish')\n",
    "        recipe.fr_('fr:recipeOrigin')\n",
    "        recipe.fr_('fr:recipeSeeAlso')\n",
    "        recipe.fr_('fr:recipeLicense')\n",
    "\n",
    "    xml_rcp = recipe.to_string(pretty=True)\n",
    "    file_name = f'{chap}.xml'\n",
    "    with open(file_name, 'w') as file:\n",
    "        file.write(xml_rcp)"
   ]
  }
 ],
 "metadata": {
  "kernelspec": {
   "display_name": "Python 3",
   "language": "python",
   "name": "python3"
  },
  "language_info": {
   "name": "python",
   "version": "3.11.0"
  }
 },
 "nbformat": 4,
 "nbformat_minor": 2
}
