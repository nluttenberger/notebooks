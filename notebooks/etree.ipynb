{
 "cells": [
  {
   "cell_type": "code",
   "execution_count": 1,
   "id": "a820ef69-c023-4033-a1e7-af21144a01cd",
   "metadata": {},
   "outputs": [],
   "source": [
    "import io\n",
    "import os\n",
    "import re\n",
    "from xml.etree import ElementTree as ET\n",
    "import json\n",
    "import codecs\n",
    "import networkx as nx\n",
    "from networkx.algorithms import bipartite\n",
    "import pandas as pd\n",
    "import numpy as np\n",
    "import matplotlib.pyplot as plt\n",
    "from collections import Counter\n",
    "import locale\n",
    "locale.setlocale(locale.LC_ALL, 'de-DE.utf-8')\n",
    "pd.set_option('display.max_rows', 500)\n",
    "pd.set_option('display.max_columns', 500)\n",
    "pd.set_option('display.width', 1000)"
   ]
  },
  {
   "cell_type": "markdown",
   "id": "c5014b3a-7c1c-40fe-8ea9-4587a766aa21",
   "metadata": {},
   "source": [
    "#### Read SVG file and parse root"
   ]
  },
  {
   "cell_type": "code",
   "execution_count": 2,
   "id": "a8f4826f-dee0-4931-9390-f29ffb43e3be",
   "metadata": {},
   "outputs": [
    {
     "name": "stdout",
     "output_type": "stream",
     "text": [
      "<svg xmlns=\"http://www.w3.org/2000/svg\" version=\"1.1\">\n",
      "  <defs>\n",
      "    <g id=\"A_edges_pure\" />\n",
      "    <g id=\"A_edges_mixed\" />\n",
      "    <g id=\"B_edges_pure\" />\n",
      "    <g id=\"B_edges_mixed\" />\n",
      "    <g id=\"AB_edges\" />\n",
      "    <g id=\"A_nodes\" />\n",
      "    <g id=\"B_nodes\" />\n",
      "    <g id=\"AB_nodes\" />\n",
      "  </defs>\n",
      "</svg>\n"
     ]
    }
   ],
   "source": [
    "def func(lst1,lst2):\n",
    "    d2 = dict(lst2)\n",
    "    return [(k,a,d2[k]) for (k,a) in lst1 if d2.has_key(k)] \n",
    "\n",
    "os.chdir('C:/Users/nlutt/Documents/Websites/graphLab/sampleSpaces/compareDev/graphs')\n",
    "with open('svgGraph-poor.svg', 'r', encoding='utf-8') as f:\n",
    "    svg_in = ET.parse(f)\n",
    "    root_in = svg_in.getroot()\n",
    "    ns = {'svg': 'http://www.w3.org/2000/svg'}\n",
    "    \n",
    "    edges = root_in.findall('svg:g/svg:g[@class=\"edge\"]',ns)\n",
    "    \n",
    "    xx = [e.find('svg:title',ns).text for e in edges]\n",
    "    yy = {e.find('svg:title',ns).text:e.find('svg:path',ns).get('d') for e in edges}\n",
    "    for e in edges:\n",
    "        pass\n",
    "        #print(e.find('svg:title',ns).text)\n",
    "        #print(e.find('svg:path',ns).get('d'))\n",
    "    #xx = [k for k in root_in.findall(('svg:g/svg:g[@class=\"edge\"]/svg:title').text,ns)]\n",
    "    #print (yy)\n",
    "        \n",
    "    #nodes = root.findall('svg:g/svg:g[@class=\"node\"]',ns)\n",
    "    #for n in nodes:\n",
    "        #print (n.find('svg:title',ns).text)\n",
    "        \n",
    "    svg_out = ET.Element('svg', xmlns='http://www.w3.org/2000/svg', version='1.1')\n",
    "    #svg_out.set('xmlns','http://www.w3.org/2000/svg', 'version', '1.1')\n",
    "    defs = ET.SubElement(svg_out,'defs')\n",
    "    edges_A_pure = ET.SubElement(defs,'g').set('id','A_edges_pure')\n",
    "    edges_A_mixed = ET.SubElement(defs,'g').set('id','A_edges_mixed')\n",
    "    edges_B_pure = ET.SubElement(defs,'g').set('id','B_edges_pure')\n",
    "    edges_B_mixed = ET.SubElement(defs,'g').set('id','B_edges_mixed')\n",
    "    edges_AB = ET.SubElement(defs,'g').set('id','AB_edges')\n",
    "    nodes_A = ET.SubElement(defs,'g').set('id','A_nodes')\n",
    "    nodes_B = ET.SubElement(defs,'g').set('id','B_nodes')\n",
    "    nodes_AB = ET.SubElement(defs,'g').set('id','AB_nodes')\n",
    "    ET.indent(svg_out)\n",
    "    ET.dump(svg_out)"
   ]
  },
  {
   "cell_type": "code",
   "execution_count": null,
   "id": "74b374a9-05c7-4c4c-a362-d2715c65c1eb",
   "metadata": {},
   "outputs": [],
   "source": []
  }
 ],
 "metadata": {
  "kernelspec": {
   "display_name": "Python 3 (ipykernel)",
   "language": "python",
   "name": "python3"
  },
  "language_info": {
   "codemirror_mode": {
    "name": "ipython",
    "version": 3
   },
   "file_extension": ".py",
   "mimetype": "text/x-python",
   "name": "python",
   "nbconvert_exporter": "python",
   "pygments_lexer": "ipython3",
   "version": "3.10.7"
  }
 },
 "nbformat": 4,
 "nbformat_minor": 5
}
