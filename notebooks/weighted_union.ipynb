{
 "cells": [
  {
   "cell_type": "code",
   "execution_count": 4,
   "id": "eadc7e52-2b67-4447-8819-790e686ed660",
   "metadata": {},
   "outputs": [
    {
     "name": "stdout",
     "output_type": "stream",
     "text": [
      "[('a', 'b', {'weight': 26}), ('b', 'c', {'weight': 42})]\n"
     ]
    }
   ],
   "source": [
    "import networkx as nx\n",
    "# create MultiGraph\n",
    "M = nx.MultiGraph()\n",
    "M.add_edge('a','b',weight=7)\n",
    "M.add_edge('a','b',weight=19)\n",
    "M.add_edge('b','c',weight=42)\n",
    "\n",
    "# create weighted graph from M\n",
    "G = nx.Graph()\n",
    "for u,v,attrib in M.edges(data=True):\n",
    "    # get/set weight of current edge\n",
    "    w = attrib['weight'] if 'weight' in attrib else 1.0\n",
    "    # check if current edge already in G\n",
    "    if G.has_edge(u,v):\n",
    "        G[u][v]['weight'] += w\n",
    "    else:\n",
    "        G.add_edge(u, v, weight=w)\n",
    "\n",
    "print(G.edges(data=True))"
   ]
  },
  {
   "cell_type": "code",
   "execution_count": 1,
   "id": "3bc9dd66-f648-4dae-aa66-3633ec0afe98",
   "metadata": {},
   "outputs": [
    {
     "name": "stdout",
     "output_type": "stream",
     "text": [
      "[('zwiebel', 'knoblauch', {'weight': 2}), ('knoblauch', 'pfeffer', {'weight': 1})]\n"
     ]
    }
   ],
   "source": [
    "import networkx as nx\n",
    "# create MultiGraph\n",
    "M = nx.MultiGraph()\n",
    "M.add_edge('zwiebel','knoblauch')\n",
    "M.add_edge('zwiebel','knoblauch')\n",
    "M.add_edge('knoblauch','pfeffer')\n",
    "\n",
    "# create weighted graph from M\n",
    "G = nx.Graph()\n",
    "for u,v,attrib in M.edges(data=True):\n",
    "    # check if current edge already in G\n",
    "    if G.has_edge(u,v):\n",
    "        G[u][v]['weight'] += 1\n",
    "    else:\n",
    "        G.add_edge(u, v, weight=1)\n",
    "print(G.edges(data=True))"
   ]
  },
  {
   "cell_type": "code",
   "execution_count": null,
   "id": "b8e84cdc-4900-40b8-a414-7b298f4b241b",
   "metadata": {},
   "outputs": [],
   "source": []
  }
 ],
 "metadata": {
  "kernelspec": {
   "display_name": "Python 3 (ipykernel)",
   "language": "python",
   "name": "python3"
  },
  "language_info": {
   "codemirror_mode": {
    "name": "ipython",
    "version": 3
   },
   "file_extension": ".py",
   "mimetype": "text/x-python",
   "name": "python",
   "nbconvert_exporter": "python",
   "pygments_lexer": "ipython3",
   "version": "3.10.7"
  }
 },
 "nbformat": 4,
 "nbformat_minor": 5
}
