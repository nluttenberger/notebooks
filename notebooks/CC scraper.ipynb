{
 "cells": [
  {
   "cell_type": "markdown",
   "metadata": {},
   "source": [
    "## Scraper for extracting recipe collections from cooking websites"
   ]
  },
  {
   "cell_type": "markdown",
   "metadata": {},
   "source": [
    "#### Imports"
   ]
  },
  {
   "cell_type": "code",
   "execution_count": 3,
   "metadata": {},
   "outputs": [],
   "source": [
    "import io\n",
    "import sys\n",
    "import os\n",
    "import re\n",
    "import math\n",
    "from xml.etree import ElementTree as ET\n",
    "import urllib.parse\n",
    "import json\n",
    "import codecs\n",
    "import subprocess\n",
    "#!{sys.executable} -m pip install --upgrade pip\n",
    "#!{sys.executable} -m pip install requests\n",
    "import requests\n",
    "#!{sys.executable} -m pip install beautifulsoup4\n",
    "from bs4 import BeautifulSoup\n",
    "#!{sys.executable} -m pip install pandas\n",
    "import pandas as pd\n",
    "#!{sys.executable} -m pip install numpy\n",
    "import numpy as np\n",
    "from numpy import dot\n",
    "from numpy.linalg import norm\n",
    "#!{sys.executable} -m pip install scipy\n",
    "from scipy.stats import entropy\n",
    "from collections import Counter\n",
    "import locale\n",
    "locale.setlocale(locale.LC_ALL, 'de-DE.utf-8')\n",
    "pd.set_option('display.max_rows', 500)\n",
    "pd.set_option('display.max_columns', 500)\n",
    "pd.set_option('display.width', 1000)"
   ]
  },
  {
   "cell_type": "markdown",
   "metadata": {},
   "source": [
    "#### Read fruschtique recipe from URL"
   ]
  },
  {
   "cell_type": "code",
   "execution_count": 38,
   "metadata": {},
   "outputs": [
    {
     "name": "stdout",
     "output_type": "stream",
     "text": [
      "Vollkorngrieß\n",
      "Milch\n",
      "Butter\n",
      "Ei\n",
      "Curry\n",
      "Zimt\n",
      "Muskat\n",
      "Salz\n"
     ]
    }
   ],
   "source": [
    "url = 'https://kochbuch.fruschtique.de/recipes/03 Suppen/Curry-Kl%C3%B6%C3%9Fchen.html'\n",
    "page = requests.get(url)\n",
    "soup = BeautifulSoup(page.content, 'html.parser')\n",
    "\n",
    "dir = 'C:/Users/nlutt/myPyPro/second/data/'\n",
    "file = os.path.join(dir, 'Brezel.html')\n",
    "\n",
    "# save html to file\n",
    "with open(file, 'w') as f:\n",
    "    f.write(soup.prettify())\n",
    "\n",
    "x = soup.find_all(\"td\", class_=\"ingdtQty\")\n",
    "for xx in x:\n",
    "    print(xx.next_sibling.next_sibling.string)"
   ]
  },
  {
   "cell_type": "markdown",
   "metadata": {},
   "source": [
    "#### Read list of recipe links from chapter toc"
   ]
  },
  {
   "cell_type": "code",
   "execution_count": 37,
   "metadata": {},
   "outputs": [
    {
     "name": "stdout",
     "output_type": "stream",
     "text": [
      "'recipes/03 Suppen/Ananas-Chili-Suppe mit roten Linsen.html'\n",
      "'recipes/03 Suppen/Blumenkohl-Fenchel-Suppe mit Madras-Curry und Brezel-Cro%C3%BBtons.html'\n",
      "'recipes/03 Suppen/Borschtsch.html'\n",
      "'recipes/03 Suppen/Curry-Kl%C3%B6%C3%9Fchen.html'\n",
      "'recipes/03 Suppen/Feldgurken-Schaum.html'\n",
      "'recipes/03 Suppen/Gazpacho.html'\n",
      "'recipes/03 Suppen/Gurken-Birnen-Suppe.html'\n",
      "'recipes/03 Suppen/Hokkaido-Suppe.html'\n",
      "'recipes/03 Suppen/Karottensuppe.html'\n",
      "'recipes/03 Suppen/Kohlsuppe asiatisch.html'\n",
      "'recipes/03 Suppen/Lauchsuppe mit Hack.html'\n",
      "'recipes/03 Suppen/Markkl%C3%B6%C3%9Fchen.html'\n",
      "'recipes/03 Suppen/Maronensuppe.html'\n",
      "'recipes/03 Suppen/Minestrone.html'\n",
      "'recipes/03 Suppen/Muskatk%C3%BCrbis-Suppe mit Chilifeuer.html'\n",
      "'recipes/03 Suppen/Sauerkraut-Rahmsuppe mit Brezel-Cro%C3%BBtons.html'\n",
      "'recipes/03 Suppen/Sauerkrautsuppe ungarisch.html'\n",
      "'recipes/03 Suppen/Selleriesuppe.html'\n",
      "'recipes/03 Suppen/Tomatensuppe.html'\n",
      "'recipes/03 Suppen/Tom Khaa Kai.html'\n",
      "'recipes/03 Suppen/Zwiebelsuppe.html'\n"
     ]
    }
   ],
   "source": [
    "url = 'https://kochbuch.fruschtique.de/recipes/03 Suppen/03 Suppen.html'\n",
    "page = requests.get(url)\n",
    "soup = BeautifulSoup(page.content, 'html.parser')\n",
    "\n",
    "dir = 'C:/Users/nlutt/myPyPro/second/data/'\n",
    "file = os.path.join(dir, 'Suppen.html')\n",
    "# save html to file\n",
    "with open(file, 'w') as f:\n",
    "    f.write(soup.prettify())\n",
    "\n",
    "for x in soup.find(\"div\", class_=\"r-small\").find_all('a'):\n",
    "    print (repr(x['href']))"
   ]
  }
 ],
 "metadata": {
  "kernelspec": {
   "display_name": "Python 3",
   "language": "python",
   "name": "python3"
  },
  "language_info": {
   "codemirror_mode": {
    "name": "ipython",
    "version": 3
   },
   "file_extension": ".py",
   "mimetype": "text/x-python",
   "name": "python",
   "nbconvert_exporter": "python",
   "pygments_lexer": "ipython3",
   "version": "3.11.0"
  }
 },
 "nbformat": 4,
 "nbformat_minor": 2
}
