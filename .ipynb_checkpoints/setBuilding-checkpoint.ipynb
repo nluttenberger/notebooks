{
 "cells": [
  {
   "cell_type": "markdown",
   "id": "f3a7ab93-539b-4da2-9144-73a4c3b1be1d",
   "metadata": {},
   "source": [
    "## Extract A, B, and AB subsets from combinedGraph.json file"
   ]
  },
  {
   "cell_type": "code",
   "execution_count": 1,
   "id": "d96a558b-68bb-4419-bbad-7561d4fc9e6a",
   "metadata": {},
   "outputs": [],
   "source": [
    "import io\n",
    "import os\n",
    "import re\n",
    "from xml.dom import minidom\n",
    "import json\n",
    "import codecs"
   ]
  },
  {
   "cell_type": "markdown",
   "id": "6a69f32f-6de2-4122-a75b-61338e0736e4",
   "metadata": {},
   "source": [
    "#### open combinedGraph.json"
   ]
  },
  {
   "cell_type": "code",
   "execution_count": 2,
   "id": "e354b177-4783-4b8a-bb51-688a8c7dfe56",
   "metadata": {},
   "outputs": [
    {
     "name": "stdout",
     "output_type": "stream",
     "text": [
      "Current working directory:  C:\\Users\\nlutt\\Documents\\Websites\\graphLab\\sampleSpaces\\compareHD-YO\\graphs\n",
      "Anz Rezepte:      187\n",
      "Anz A-Rezepte:     95\n",
      "Anz B-Rezepte:     92\n"
     ]
    }
   ],
   "source": [
    "os.chdir('C:/Users/nlutt/Documents/Websites/graphLab/sampleSpaces/compareHD-YO/graphs')\n",
    "cwd = os.getcwd()\n",
    "print(\"Current working directory: \", cwd)\n",
    "with open('combinedGraph.json', 'r', encoding='utf-8') as f:\n",
    "  combinedGraph = json.load(f)\n",
    "recipes = combinedGraph.get('recipes')\n",
    "print ('Anz Rezepte: ', str(len(recipes)).rjust(7))\n",
    "Arecipes = []\n",
    "Brecipes = []\n",
    "for rcp in recipes:\n",
    "    rcp_name = rcp.get('recipeName')\n",
    "    if rcp_name in combinedGraph.get('collections')[0].get('A').get('recipes'):\n",
    "        Arecipes.append(rcp_name)\n",
    "    else:\n",
    "        Brecipes.append(rcp_name)\n",
    "print('Anz A-Rezepte: ', str(len(Arecipes)).rjust(5))\n",
    "print('Anz B-Rezepte: ', str(len(Brecipes)).rjust(5))"
   ]
  },
  {
   "cell_type": "markdown",
   "id": "40c81f75-0ec0-44a3-9410-bdcec0422951",
   "metadata": {},
   "source": [
    "#### get A, B, and AB sets of ingredients"
   ]
  },
  {
   "cell_type": "code",
   "execution_count": 3,
   "id": "320d8942-ff4d-4dec-a8d0-9b9b40883e6e",
   "metadata": {},
   "outputs": [
    {
     "name": "stdout",
     "output_type": "stream",
     "text": [
      "Anz Knoten im Aset:     59\n",
      "Anz Knoten im Bset:    181\n",
      "Anz Knoten im ABset:    41\n"
     ]
    }
   ],
   "source": [
    "ingredients = combinedGraph.get('ingredients')\n",
    "i = 0\n",
    "Aset = set()\n",
    "for igt in ingredients:\n",
    "    if igt.get('sub') == 'A':\n",
    "        i += 1\n",
    "        #print (i, igt.get('id'))\n",
    "        Aset.add(igt.get('id'))\n",
    "print('Anz Knoten im Aset: ', str(len(Aset)).rjust(5))\n",
    "i = 0\n",
    "Bset = set()\n",
    "for igt in ingredients:\n",
    "    if igt.get('sub') == 'B':\n",
    "        i += 1\n",
    "        #print (i, igt.get('id'))\n",
    "        Bset.add(igt.get('id'))\n",
    "print('Anz Knoten im Bset: ', str(len(Bset)).rjust(5))\n",
    "i = 0\n",
    "ABset = set()\n",
    "for igt in ingredients:\n",
    "    if igt.get('sub') == 'AB':\n",
    "        i += 1\n",
    "        #print (i, igt.get('id'))\n",
    "        ABset.add(igt.get('id'))\n",
    "print('Anz Knoten im ABset: ', str(len(ABset)).rjust(4))\n",
    "#print (ABset)"
   ]
  },
  {
   "cell_type": "markdown",
   "id": "836aa095-106e-4dad-a29d-f0b3d8798552",
   "metadata": {},
   "source": [
    "#### get ingredients lists and check if any of them is contained in A set completely, write result to file"
   ]
  },
  {
   "cell_type": "code",
   "execution_count": 18,
   "id": "074c4f35-2782-441e-85b8-47aab77f8ff5",
   "metadata": {},
   "outputs": [],
   "source": [
    "i = 0\n",
    "f = open(\"results.txt\", \"a\")\n",
    "f.write('Recipes with all their ingredients in A set\\n\\n')\n",
    "for rcp in recipes:\n",
    "    igt_list = rcp.get('ingredients')\n",
    "    #print (igt_list)\n",
    "    igt_set = set(igt_list)\n",
    "    result = ''\n",
    "    if igt_set.issubset(Aset):\n",
    "        sub = 'A'\n",
    "        i += 1\n",
    "        rcp_name = rcp.get('recipeName')\n",
    "        print (str(i).rjust(5), sub.rjust(4), rcp_name.ljust(12), ' '.ljust(60-len(rcp_name)), igt_set)\n",
    "        result = str(i).rjust(5) + sub.rjust(4) + '   ' + rcp_name.ljust(12) + ' '.ljust(60-len(rcp_name)) + str(igt_set) + '\\n'\n",
    "        f.write(str(result))\n",
    "f.write('\\n\\n')\n",
    "f.close()"
   ]
  },
  {
   "cell_type": "markdown",
   "id": "43dea568-969c-4597-9fcc-403c1a8737f6",
   "metadata": {},
   "source": [
    "#### get ingredients lists and check if any of them is contained in B set completely, write result to file"
   ]
  },
  {
   "cell_type": "code",
   "execution_count": 19,
   "id": "3a5ea3f6-be2c-4039-851c-978ee0842e80",
   "metadata": {},
   "outputs": [],
   "source": [
    "i = 0\n",
    "f = open(\"results.txt\", \"a\")\n",
    "f.write('Recipes with all their ingredients in B set\\n\\n')\n",
    "for rcp in recipes:\n",
    "    igt_list = rcp.get('ingredients')\n",
    "    #print (igt_list)\n",
    "    igt_set = set(igt_list)\n",
    "    result = ''\n",
    "    if igt_set.issubset(Bset):\n",
    "        sub = 'B'\n",
    "        i += 1\n",
    "        rcp_name = rcp.get('recipeName')\n",
    "        #print (str(i).rjust(5), sub.rjust(4), rcp_name.ljust(12), ' '.ljust(60-len(rcp_name)), igt_set)\n",
    "        result = str(i).rjust(5) + sub.rjust(4) + '   ' + rcp_name.ljust(12) + ' '.ljust(60-len(rcp_name)) + str(igt_set) + '\\n'\n",
    "        f.write(str(result))\n",
    "f.write('\\n\\n')\n",
    "f.close()"
   ]
  },
  {
   "cell_type": "markdown",
   "id": "1eeca89c-1b1c-4e4e-9028-7d68a53c2ea3",
   "metadata": {},
   "source": [
    "#### get ingredients lists and check if any of them is contained in A∩B set completely, write result to file"
   ]
  },
  {
   "cell_type": "code",
   "execution_count": 20,
   "id": "8a71809e-ef31-4df5-86c2-939a9114e49d",
   "metadata": {},
   "outputs": [],
   "source": [
    "i = 0\n",
    "f = open(\"results.txt\", \"a\")\n",
    "f.write('Recipes with all their ingredients in AB set\\n\\n')\n",
    "for rcp in recipes:\n",
    "    igt_list = rcp.get('ingredients')\n",
    "    #print (igt_list)\n",
    "    igt_set = set(igt_list)\n",
    "    result = ''\n",
    "    if igt_set.issubset(ABset):\n",
    "        i += 1\n",
    "        sub = 'B'\n",
    "        rcp_name = rcp.get('recipeName')\n",
    "        if rcp_name in combinedGraph.get('collections')[0].get('A').get('recipes'):\n",
    "            sub = 'A'\n",
    "        #print (str(i).rjust(5), sub.rjust(4), rcp_name.ljust(12), ' '.ljust(60-len(rcp_name)), igt_set)\n",
    "        result = str(i).rjust(5) + sub.rjust(4) + '   ' + rcp_name.ljust(12) + ' '.ljust(60-len(rcp_name)) + str(igt_set) + '\\n'\n",
    "        f.write(str(result))\n",
    "f.write('\\n\\n')\n",
    "f.close()"
   ]
  },
  {
   "cell_type": "markdown",
   "id": "e0e7bb82-1d09-44d3-8955-b5e3736ddf41",
   "metadata": {},
   "source": [
    "#### get ingredients from A∩B set completing recipes from A set, write result to file"
   ]
  },
  {
   "cell_type": "code",
   "execution_count": 8,
   "id": "1374dac5-066e-4bae-b793-cfd38fe1cf2d",
   "metadata": {},
   "outputs": [],
   "source": [
    "from collections import Counter\n",
    "\n",
    "totalA = []\n",
    "totalB = []\n",
    "i = 0\n",
    "j = 0\n",
    "f = open(\"results.txt\", \"a\")\n",
    "f.write('A and B recipes drawing ingredients from AB set \\n\\n')\n",
    "for rcp in recipes:\n",
    "    rcp_name = rcp.get('recipeName')\n",
    "    if rcp_name in Arecipes:\n",
    "        sub= 'A'\n",
    "        igt_list = rcp.get('ingredients')\n",
    "        igt_set = set(igt_list)\n",
    "        ABigt = igt_set.intersection(ABset)\n",
    "        if len(ABigt) > 0: \n",
    "            i += 1\n",
    "            totalA.extend(list(ABigt))\n",
    "            #print (str(i).rjust(5), sub.rjust(4), rcp_name.ljust(12), ' '.ljust(60-len(rcp_name)), igt_set)\n",
    "            result = str(i).rjust(5) + sub.rjust(4) + '   ' + rcp_name.ljust(12) + ' '.ljust(60-len(rcp_name)) + str(igt_set) + '\\n'\n",
    "            f.write(str(result))\n",
    "    elif rcp_name in Brecipes:\n",
    "        sub = 'B'\n",
    "        igt_list = rcp.get('ingredients')\n",
    "        igt_set = set(igt_list)\n",
    "        ABigt = igt_set.intersection(ABset)\n",
    "        if len(ABigt) > 0:\n",
    "            j += 1\n",
    "            totalB.extend(list(ABigt))\n",
    "            result = str(j).rjust(5) + sub.rjust(4) + '   ' + rcp_name.ljust(12) + ' '.ljust(60-len(rcp_name)) + str(igt_set) + '\\n'\n",
    "            f.write(str(result))\n",
    "countA = Counter(totalA)\n",
    "f.write('\\nIngredients drawn from AB set by A recipes\\n')\n",
    "f.write(str(countA) + '\\n')\n",
    "countB = Counter(totalB)\n",
    "f.write('\\nIngredients drawn from AB set by B recipes\\n')\n",
    "f.write(str(countB))\n",
    "#print (countA)\n",
    "#print (countB)\n",
    "f.write('\\n\\n')\n",
    "f.close()"
   ]
  },
  {
   "cell_type": "markdown",
   "id": "d06a4ad4-9d94-4206-94d7-62dd2ce3eb07",
   "metadata": {},
   "source": [
    "#### generate edges, determine edge A, B, AB edge sets"
   ]
  },
  {
   "cell_type": "code",
   "execution_count": 5,
   "id": "19dbfa18-5e83-4f6e-8698-5107fe647712",
   "metadata": {},
   "outputs": [
    {
     "name": "stdout",
     "output_type": "stream",
     "text": [
      "Number of edges in Aedges:       547\n",
      "Number of edges in Bedges:      3827\n",
      "Number of edges in ABedges:      337\n",
      "Total number of edges:          4711\n"
     ]
    }
   ],
   "source": [
    "import networkx as nx\n",
    "G = nx.Graph()\n",
    "import locale\n",
    "locale.setlocale(locale.LC_ALL, 'de-DE.utf-8')\n",
    "import pandas as pd\n",
    "from mlxtend.preprocessing import TransactionEncoder\n",
    "import openpyxl\n",
    "\n",
    "# capacity union function\n",
    "def cap_union(L,R):\n",
    "    for u,v,data in R.edges(data=True):\n",
    "        w = data['weight'] if 'weight' in data else 1\n",
    "        if L.has_edge(u,v):\n",
    "            L[u][v]['weight'] += w     \n",
    "        else:\n",
    "            x = [u,v]\n",
    "            x.sort(key=locale.strxfrm)\n",
    "            id = str(x[0]) + '--' + str(x[1])\n",
    "            L.add_edge(u, v, weight=w) \n",
    "            L[u][v]['id'] = id\n",
    "            if   (u in Aset) and (v in Aset):   x = 'A'\n",
    "            elif (u in Bset) and (v in Bset):   x = 'B'\n",
    "            elif (u in ABset) and (v in ABset): x = 'AB'\n",
    "            else:\n",
    "                if   (u in Aset) or (v in Aset): x = 'A'\n",
    "                elif (u in Bset) or (v in Bset): x = 'B'\n",
    "            L[u][v]['sub'] = x\n",
    "G.clear()\n",
    "H = nx.Graph()\n",
    "for rcp in recipes:\n",
    "    ingredients = rcp.get('ingredients')\n",
    "    ingredients.sort(key=locale.strxfrm)\n",
    "    #print (ingredients)\n",
    "    H.clear()\n",
    "    H = nx.complete_graph(ingredients)\n",
    "    cap_union(G,H)\n",
    "i = 0\n",
    "for u,v,data in G.edges(data=True):\n",
    "    if data.get('sub') == 'AB':\n",
    "        #print (i,u,v,data)\n",
    "        i += 1\n",
    "#print(i)\n",
    "i = 0\n",
    "j = 0\n",
    "k = 0\n",
    "Aedges = []\n",
    "Bedges = []\n",
    "ABedges = []\n",
    "for u,v,data in G.edges(data=True):\n",
    "    x = data.get('sub')\n",
    "    if x == 'A':\n",
    "        i += 1\n",
    "        Aedges.append(data.get('id'))\n",
    "    elif x == 'B':\n",
    "        j += 1\n",
    "        Bedges.append(data.get('id'))\n",
    "    elif x == 'AB':\n",
    "        k += 1\n",
    "        ABedges.append(data.get('id'))\n",
    "print ('Number of edges in Aedges:  ', str(i).rjust(7))\n",
    "print ('Number of edges in Bedges:  ', str(j).rjust(7))\n",
    "print ('Number of edges in ABedges: ', str(k).rjust(7))\n",
    "print ('Total number of edges: ', str(len(G.edges(data=True))).rjust(12))"
   ]
  },
  {
   "cell_type": "markdown",
   "id": "15f77797-cdbd-4a93-9d2a-8d53a4684ca6",
   "metadata": {},
   "source": [
    "#### generate node sets for vegs, spices, and herbs"
   ]
  },
  {
   "cell_type": "code",
   "execution_count": 7,
   "id": "91dc6d67-4b97-4d2c-be77-af7c58b15849",
   "metadata": {},
   "outputs": [
    {
     "name": "stdout",
     "output_type": "stream",
     "text": [
      "Node set for veg:  74\n",
      "Node set for spices:  44\n",
      "Node set for herbs:  19\n",
      "Node set for fish:  5\n",
      "Node set for meat:  12\n",
      "{'sardelle', 'krebs', 'hering', 'austern', 'hecht'}\n",
      "{'stubenküken', 'schweinsrippe', 'pinkelwurst', 'kalbfleisch', 'rauchfleisch', 'schweinefleisch', 'taube', 'ente', 'bratwurst', 'schinken', 'rindfleisch', 'speck'}\n"
     ]
    }
   ],
   "source": [
    "ingredients = combinedGraph.get('ingredients')\n",
    "vegs = set()\n",
    "spices = set()\n",
    "herbs = set()\n",
    "fish = set()\n",
    "meat = set()\n",
    "for igt in ingredients:\n",
    "    x = igt.get('id')\n",
    "    y = igt.get('class')\n",
    "    if len(x) > 0:\n",
    "        if y == 'veg':\n",
    "            vegs.add(x)\n",
    "        elif y == 'spice':\n",
    "            spices.add(x)\n",
    "        elif y == 'herb':\n",
    "            herbs.add(x)\n",
    "        elif y == 'fish':\n",
    "            fish.add(x)\n",
    "        elif y == 'meat':\n",
    "            meat.add(x)\n",
    "print ('Node set for veg: ', len(vegs))\n",
    "print ('Node set for spices: ', len(spices))\n",
    "print ('Node set for herbs: ', len(herbs))\n",
    "print ('Node set for fish: ', len(fish))\n",
    "print ('Node set for meat: ', len(meat))\n",
    "print (fish)\n",
    "print (meat)"
   ]
  },
  {
   "cell_type": "markdown",
   "id": "234e0ee0-dbfd-4e5b-9a23-6b21a1463f56",
   "metadata": {},
   "source": [
    "#### find veg, spices, herbs nodes in AB node set"
   ]
  },
  {
   "cell_type": "code",
   "execution_count": 8,
   "id": "b8f7b251-e766-41ae-94d4-700ea9aeb49d",
   "metadata": {},
   "outputs": [
    {
     "name": "stdout",
     "output_type": "stream",
     "text": [
      "['steckrübe', 'grüne_bohnen', 'erbsen', 'spargel', 'gurke', 'lauch', 'zuckerschoten', 'champignon', 'knollensellerie', 'kohlrabi', 'spinat', 'blumenkohl', 'rosenkohl', 'linsen', 'karotte', 'weiße_bohnen']\n",
      "['muskat', 'piment', 'kümmel', 'zimt', 'kapern', 'pfeffer']\n",
      "['lorbeer', 'petersilie']\n"
     ]
    }
   ],
   "source": [
    "Avegs = []\n",
    "Bvegs = []\n",
    "ABvegs = []\n",
    "ABspices = []\n",
    "ABherbs = []\n",
    "for igt in ABset:\n",
    "    if igt in vegs:\n",
    "        ABvegs.append(igt)\n",
    "    elif igt in spices:\n",
    "        ABspices.append(igt)\n",
    "    elif igt in herbs:\n",
    "        ABherbs.append(igt)\n",
    "print (ABvegs)\n",
    "print (ABspices)\n",
    "print (ABherbs)"
   ]
  },
  {
   "cell_type": "markdown",
   "id": "446bcf2d-03c5-4cf9-b37d-4a9883b9a651",
   "metadata": {},
   "source": [
    "#### find edges ABveg to spices and write to csv file"
   ]
  },
  {
   "cell_type": "code",
   "execution_count": 9,
   "id": "1588a0c0-2f6e-4fb5-a9b7-e092b3d936ca",
   "metadata": {},
   "outputs": [
    {
     "name": "stdout",
     "output_type": "stream",
     "text": [
      "edges linking ABvegs to spices\n",
      "-------------------\n",
      "steckrübe 6\n",
      "grüne_bohnen 7\n",
      "erbsen 5\n",
      "spargel 4\n",
      "gurke 12\n",
      "lauch 3\n",
      "zuckerschoten 1\n",
      "champignon 12\n",
      "knollensellerie 12\n",
      "kohlrabi 15\n",
      "spinat 9\n",
      "blumenkohl 5\n",
      "rosenkohl 2\n",
      "linsen 7\n",
      "karotte 11\n",
      "weiße_bohnen 8\n",
      "\n",
      "ABveg relations to spices, sum\n",
      "-------------------\n",
      "119\n",
      "\n",
      "ABveg relations to spices, composite\n",
      "-------------------\n",
      "[{'veg': 'steckrübe', 'total': 6, 'A': 0, 'B': 5, 'AB': 1}, {'veg': 'grüne_bohnen', 'total': 7, 'A': 0, 'B': 5, 'AB': 2}, {'veg': 'erbsen', 'total': 5, 'A': 0, 'B': 4, 'AB': 1}, {'veg': 'spargel', 'total': 4, 'A': 0, 'B': 3, 'AB': 1}, {'veg': 'gurke', 'total': 12, 'A': 0, 'B': 11, 'AB': 1}, {'veg': 'lauch', 'total': 3, 'A': 0, 'B': 2, 'AB': 1}, {'veg': 'zuckerschoten', 'total': 1, 'A': 0, 'B': 1, 'AB': 0}, {'veg': 'champignon', 'total': 12, 'A': 0, 'B': 9, 'AB': 3}, {'veg': 'knollensellerie', 'total': 12, 'A': 0, 'B': 10, 'AB': 2}, {'veg': 'kohlrabi', 'total': 15, 'A': 0, 'B': 12, 'AB': 3}, {'veg': 'spinat', 'total': 9, 'A': 0, 'B': 8, 'AB': 1}, {'veg': 'blumenkohl', 'total': 5, 'A': 0, 'B': 4, 'AB': 1}, {'veg': 'rosenkohl', 'total': 2, 'A': 0, 'B': 1, 'AB': 1}, {'veg': 'linsen', 'total': 7, 'A': 0, 'B': 7, 'AB': 0}, {'veg': 'karotte', 'total': 11, 'A': 0, 'B': 7, 'AB': 4}, {'veg': 'weiße_bohnen', 'total': 8, 'A': 0, 'B': 6, 'AB': 2}]\n"
     ]
    }
   ],
   "source": [
    "e2spices = []\n",
    "veg2spices = []\n",
    "print ('edges linking ABvegs to spices\\n-------------------')\n",
    "for veg in ABvegs:\n",
    "    neighbors = G[veg]\n",
    "    ks = neighbors.keys()\n",
    "    i = 0\n",
    "    j = 0\n",
    "    m = 0\n",
    "    n = 0\n",
    "    for k in ks:\n",
    "        if k in spices:\n",
    "            i += 1\n",
    "            x = G[k].get(veg)\n",
    "            e_id = x.get('id')\n",
    "            e2spices.append(e_id)\n",
    "            if e_id in Aedges:\n",
    "                j += 1\n",
    "            elif e_id in Bedges:\n",
    "                m += 1\n",
    "            elif e_id in ABedges:\n",
    "                n += 1\n",
    "    x = {'veg': veg, 'total': i, 'A': j, 'B': m, 'AB': n}    \n",
    "    veg2spices.append(x)\n",
    "    print (veg, i)\n",
    "print ('\\nABveg relations to spices, sum\\n-------------------')\n",
    "print(len(e2spices))\n",
    "#print(e2spices)  \n",
    "print ('\\nABveg relations to spices, composite\\n-------------------')\n",
    "print (veg2spices)\n",
    "\n",
    "f = open(\"veg2spices.csv\", \"w\")\n",
    "for veg in veg2spices:\n",
    "    y = veg.get('veg')+';'+str(veg.get('total'))+';'+str(veg.get('A'))+';'+str(veg.get('B'))+';'+str(veg.get('AB'))+';\\n'\n",
    "    f.write(y)\n",
    "f.close()"
   ]
  },
  {
   "cell_type": "markdown",
   "id": "3effb4b5-54c7-43a6-9c2d-85b6675f8e2b",
   "metadata": {},
   "source": [
    "#### find edges ABveg to herb and write to csv file"
   ]
  },
  {
   "cell_type": "code",
   "execution_count": 31,
   "id": "2db901f1-21dc-4176-aefe-219f175a0e69",
   "metadata": {},
   "outputs": [
    {
     "name": "stdout",
     "output_type": "stream",
     "text": [
      "number of edges linking ABvegs to herbs\n",
      "-------------------\n",
      "spinat 2\n",
      "karotte 6\n",
      "lauch 0\n",
      "steckrübe 3\n",
      "kohlrabi 2\n",
      "rosenkohl 2\n",
      "weiße_bohnen 5\n",
      "champignon 7\n",
      "gurke 7\n",
      "knollensellerie 3\n",
      "grüne_bohnen 6\n",
      "erbsen 3\n",
      "spargel 2\n",
      "blumenkohl 0\n",
      "linsen 2\n",
      "zuckerschoten 2\n",
      "\n",
      "ABveg relations to herbs, sum\n",
      "-------------------\n",
      "52\n",
      "\n",
      "ABveg relations to herbs, compsite\n",
      "-------------------\n",
      "[{'veg': 'spinat', 'total': 2, 'A': 0, 'B': 2, 'AB': 0}, {'veg': 'karotte', 'total': 6, 'A': 0, 'B': 5, 'AB': 1}, {'veg': 'lauch', 'total': 0, 'A': 0, 'B': 0, 'AB': 0}, {'veg': 'steckrübe', 'total': 3, 'A': 0, 'B': 3, 'AB': 0}, {'veg': 'kohlrabi', 'total': 2, 'A': 0, 'B': 2, 'AB': 0}, {'veg': 'rosenkohl', 'total': 2, 'A': 0, 'B': 0, 'AB': 2}, {'veg': 'weiße_bohnen', 'total': 5, 'A': 0, 'B': 4, 'AB': 1}, {'veg': 'champignon', 'total': 7, 'A': 0, 'B': 6, 'AB': 1}, {'veg': 'gurke', 'total': 7, 'A': 0, 'B': 6, 'AB': 1}, {'veg': 'knollensellerie', 'total': 3, 'A': 0, 'B': 2, 'AB': 1}, {'veg': 'grüne_bohnen', 'total': 6, 'A': 0, 'B': 5, 'AB': 1}, {'veg': 'erbsen', 'total': 3, 'A': 0, 'B': 2, 'AB': 1}, {'veg': 'spargel', 'total': 2, 'A': 0, 'B': 1, 'AB': 1}, {'veg': 'blumenkohl', 'total': 0, 'A': 0, 'B': 0, 'AB': 0}, {'veg': 'linsen', 'total': 2, 'A': 0, 'B': 2, 'AB': 0}, {'veg': 'zuckerschoten', 'total': 2, 'A': 0, 'B': 1, 'AB': 1}]\n"
     ]
    }
   ],
   "source": [
    "e2herbs = []\n",
    "veg2herbs = []\n",
    "print ('number of edges linking ABvegs to herbs\\n-------------------')\n",
    "for veg in ABvegs:\n",
    "    neighbors = G[veg]\n",
    "    ks = neighbors.keys()\n",
    "    i = 0\n",
    "    j = 0\n",
    "    m = 0\n",
    "    n = 0\n",
    "    for k in ks:\n",
    "        if k in herbs:\n",
    "            i += 1\n",
    "            x = G[k].get(veg) \n",
    "            e_id = x.get('id')\n",
    "            e2herbs.append(e_id)\n",
    "            if e_id in Aedges:\n",
    "                j += 1\n",
    "            elif e_id in Bedges:\n",
    "                m += 1\n",
    "            elif e_id in ABedges:\n",
    "                n += 1\n",
    "    x = {'veg': veg, 'total': i, 'A': j, 'B': m, 'AB': n}   \n",
    "    veg2herbs.append(x)\n",
    "    print (veg, i)\n",
    "print ('\\nABveg relations to herbs, sum\\n-------------------')\n",
    "print(len(e2herbs))\n",
    "#print(e2herbs)  \n",
    "print ('\\nABveg relations to herbs, composite\\n-------------------')\n",
    "print (veg2herbs)\n",
    "\n",
    "f = open(\"veg2herbs.csv\", \"w\")\n",
    "for veg in veg2herbs:\n",
    "    y = veg.get('veg')+';'+str(veg.get('total'))+';'+str(veg.get('A'))+';'+str(veg.get('B'))+';'+str(veg.get('AB'))+';\\n'\n",
    "    f.write(y)\n",
    "f.close()"
   ]
  },
  {
   "cell_type": "markdown",
   "id": "b801765e-24aa-40ee-b45a-83b9c11ffd98",
   "metadata": {},
   "source": [
    "#### find edges ABveg to fish and write to csv file"
   ]
  },
  {
   "cell_type": "code",
   "execution_count": 43,
   "id": "e6b67dbe-967c-4b46-aa33-2b05ece63ca7",
   "metadata": {},
   "outputs": [
    {
     "name": "stdout",
     "output_type": "stream",
     "text": [
      "number of edges linking ABvegs to fish\n",
      "-------------------\n",
      "spinat 0\n",
      "karotte 0\n",
      "lauch 0\n",
      "steckrübe 0\n",
      "kohlrabi 2\n",
      "rosenkohl 0\n",
      "weiße_bohnen 1\n",
      "champignon 0\n",
      "gurke 0\n",
      "knollensellerie 1\n",
      "grüne_bohnen 0\n",
      "erbsen 1\n",
      "spargel 2\n",
      "blumenkohl 1\n",
      "linsen 0\n",
      "zuckerschoten 0\n",
      "\n",
      "ABveg relations to fish, sum\n",
      "-------------------\n",
      "8\n",
      "\n",
      "ABveg relations to fish, compsite\n",
      "-------------------\n",
      "[{'veg': 'spinat', 'total': 0, 'A': 0, 'B': 0, 'AB': 0}, {'veg': 'karotte', 'total': 0, 'A': 0, 'B': 0, 'AB': 0}, {'veg': 'lauch', 'total': 0, 'A': 0, 'B': 0, 'AB': 0}, {'veg': 'steckrübe', 'total': 0, 'A': 0, 'B': 0, 'AB': 0}, {'veg': 'kohlrabi', 'total': 2, 'A': 1, 'B': 0, 'AB': 1}, {'veg': 'rosenkohl', 'total': 0, 'A': 0, 'B': 0, 'AB': 0}, {'veg': 'weiße_bohnen', 'total': 1, 'A': 0, 'B': 0, 'AB': 1}, {'veg': 'champignon', 'total': 0, 'A': 0, 'B': 0, 'AB': 0}, {'veg': 'gurke', 'total': 0, 'A': 0, 'B': 0, 'AB': 0}, {'veg': 'knollensellerie', 'total': 1, 'A': 0, 'B': 0, 'AB': 1}, {'veg': 'grüne_bohnen', 'total': 0, 'A': 0, 'B': 0, 'AB': 0}, {'veg': 'erbsen', 'total': 1, 'A': 1, 'B': 0, 'AB': 0}, {'veg': 'spargel', 'total': 2, 'A': 1, 'B': 0, 'AB': 1}, {'veg': 'blumenkohl', 'total': 1, 'A': 1, 'B': 0, 'AB': 0}, {'veg': 'linsen', 'total': 0, 'A': 0, 'B': 0, 'AB': 0}, {'veg': 'zuckerschoten', 'total': 0, 'A': 0, 'B': 0, 'AB': 0}]\n"
     ]
    }
   ],
   "source": [
    "e2fish = []\n",
    "veg2fish = []\n",
    "print ('number of edges linking ABvegs to fish\\n-------------------')\n",
    "for veg in ABvegs:\n",
    "    neighbors = G[veg]\n",
    "    ks = neighbors.keys()\n",
    "    i = 0\n",
    "    j = 0\n",
    "    m = 0\n",
    "    n = 0\n",
    "    for k in ks:\n",
    "        if k in fish:\n",
    "            i += 1\n",
    "            x = G[k].get(veg) \n",
    "            e_id = x.get('id')\n",
    "            e2fish.append(e_id)\n",
    "            if e_id in Aedges:\n",
    "                j += 1\n",
    "            elif e_id in Bedges:\n",
    "                m += 1\n",
    "            elif e_id in ABedges:\n",
    "                n += 1\n",
    "    x = {'veg': veg, 'total': i, 'A': j, 'B': m, 'AB': n}   \n",
    "    veg2fish.append(x)\n",
    "    print (veg, i)\n",
    "print ('\\nABveg relations to fish, sum\\n-------------------')\n",
    "print(len(e2fish))\n",
    "#print(e2fish)  \n",
    "print ('\\nABveg relations to fish, composite\\n-------------------')\n",
    "print (veg2fish)\n",
    "\n",
    "f = open(\"veg2fish.csv\", \"w\")\n",
    "for veg in veg2fish:\n",
    "    y = veg.get('veg')+';'+str(veg.get('total'))+';'+str(veg.get('A'))+';'+str(veg.get('B'))+';'+str(veg.get('AB'))+';\\n'\n",
    "    f.write(y)\n",
    "f.close()"
   ]
  },
  {
   "cell_type": "markdown",
   "id": "cd2f5643-7044-4016-bd83-1bf7fcfe5d79",
   "metadata": {},
   "source": [
    "#### find edges ABveg to meat and write to csv file"
   ]
  },
  {
   "cell_type": "code",
   "execution_count": 44,
   "id": "a6f34802-2023-41aa-85b6-53d155bb0956",
   "metadata": {},
   "outputs": [
    {
     "name": "stdout",
     "output_type": "stream",
     "text": [
      "number of edges linking ABvegs to meat\n",
      "-------------------\n",
      "spinat 0\n",
      "karotte 1\n",
      "lauch 0\n",
      "steckrübe 0\n",
      "kohlrabi 1\n",
      "rosenkohl 0\n",
      "weiße_bohnen 1\n",
      "champignon 0\n",
      "gurke 1\n",
      "knollensellerie 1\n",
      "grüne_bohnen 1\n",
      "erbsen 1\n",
      "spargel 4\n",
      "blumenkohl 3\n",
      "linsen 0\n",
      "zuckerschoten 0\n",
      "\n",
      "ABveg relations to meat, sum\n",
      "-------------------\n",
      "14\n",
      "\n",
      "ABveg relations to meat, compsite\n",
      "-------------------\n",
      "[{'veg': 'spinat', 'total': 0, 'A': 0, 'B': 0, 'AB': 0}, {'veg': 'karotte', 'total': 1, 'A': 1, 'B': 0, 'AB': 0}, {'veg': 'lauch', 'total': 0, 'A': 0, 'B': 0, 'AB': 0}, {'veg': 'steckrübe', 'total': 0, 'A': 0, 'B': 0, 'AB': 0}, {'veg': 'kohlrabi', 'total': 1, 'A': 1, 'B': 0, 'AB': 0}, {'veg': 'rosenkohl', 'total': 0, 'A': 0, 'B': 0, 'AB': 0}, {'veg': 'weiße_bohnen', 'total': 1, 'A': 1, 'B': 0, 'AB': 0}, {'veg': 'champignon', 'total': 0, 'A': 0, 'B': 0, 'AB': 0}, {'veg': 'gurke', 'total': 1, 'A': 1, 'B': 0, 'AB': 0}, {'veg': 'knollensellerie', 'total': 1, 'A': 1, 'B': 0, 'AB': 0}, {'veg': 'grüne_bohnen', 'total': 1, 'A': 1, 'B': 0, 'AB': 0}, {'veg': 'erbsen', 'total': 1, 'A': 1, 'B': 0, 'AB': 0}, {'veg': 'spargel', 'total': 4, 'A': 4, 'B': 0, 'AB': 0}, {'veg': 'blumenkohl', 'total': 3, 'A': 3, 'B': 0, 'AB': 0}, {'veg': 'linsen', 'total': 0, 'A': 0, 'B': 0, 'AB': 0}, {'veg': 'zuckerschoten', 'total': 0, 'A': 0, 'B': 0, 'AB': 0}]\n"
     ]
    }
   ],
   "source": [
    "e2meat = []\n",
    "veg2meat = []\n",
    "print ('number of edges linking ABvegs to meat\\n-------------------')\n",
    "for veg in ABvegs:\n",
    "    neighbors = G[veg]\n",
    "    ks = neighbors.keys()\n",
    "    i = 0\n",
    "    j = 0\n",
    "    m = 0\n",
    "    n = 0\n",
    "    for k in ks:\n",
    "        if k in meat:\n",
    "            i += 1\n",
    "            x = G[k].get(veg) \n",
    "            e_id = x.get('id')\n",
    "            e2meat.append(e_id)\n",
    "            if e_id in Aedges:\n",
    "                j += 1\n",
    "            elif e_id in Bedges:\n",
    "                m += 1\n",
    "            elif e_id in ABedges:\n",
    "                n += 1\n",
    "    x = {'veg': veg, 'total': i, 'A': j, 'B': m, 'AB': n}   \n",
    "    veg2meat.append(x)\n",
    "    print (veg, i)\n",
    "print ('\\nABveg relations to meat, sum\\n-------------------')\n",
    "print(len(e2meat))\n",
    "#print(e2meat)  \n",
    "print ('\\nABveg relations to meat, composite\\n-------------------')\n",
    "print (veg2meat)\n",
    "\n",
    "f = open(\"veg2meat.csv\", \"w\")\n",
    "for veg in veg2meat:\n",
    "    y = veg.get('veg')+';'+str(veg.get('total'))+';'+str(veg.get('A'))+';'+str(veg.get('B'))+';'+str(veg.get('AB'))+';\\n'\n",
    "    f.write(y)\n",
    "f.close()"
   ]
  },
  {
   "cell_type": "markdown",
   "id": "e2bb3a87-33af-4dd6-a208-08114584123f",
   "metadata": {},
   "source": [
    "#### find edges ABveg to spice, multiply with weight; write to csv file"
   ]
  },
  {
   "cell_type": "code",
   "execution_count": 11,
   "id": "647c53ae-2776-4752-8837-b2f8f51f03dd",
   "metadata": {},
   "outputs": [
    {
     "name": "stdout",
     "output_type": "stream",
     "text": [
      "edges linking ABvegs to spices\n",
      "-------------------\n",
      "steckrübe 7\n",
      "grüne_bohnen 11\n",
      "erbsen 5\n",
      "spargel 7\n",
      "gurke 22\n",
      "lauch 3\n",
      "zuckerschoten 1\n",
      "champignon 18\n",
      "knollensellerie 14\n",
      "kohlrabi 19\n",
      "spinat 10\n",
      "blumenkohl 6\n",
      "rosenkohl 3\n",
      "linsen 8\n",
      "karotte 15\n",
      "weiße_bohnen 15\n",
      "\n",
      "ABveg relations to spices, sum\n",
      "-------------------\n",
      "119\n",
      "\n",
      "ABveg relations to spices, composite\n",
      "-------------------\n",
      "[{'veg': 'steckrübe', 'total': 7, 'A': 0, 'B': 5, 'AB': 2}, {'veg': 'grüne_bohnen', 'total': 11, 'A': 0, 'B': 6, 'AB': 5}, {'veg': 'erbsen', 'total': 5, 'A': 0, 'B': 4, 'AB': 1}, {'veg': 'spargel', 'total': 7, 'A': 0, 'B': 3, 'AB': 4}, {'veg': 'gurke', 'total': 22, 'A': 0, 'B': 20, 'AB': 2}, {'veg': 'lauch', 'total': 3, 'A': 0, 'B': 2, 'AB': 1}, {'veg': 'zuckerschoten', 'total': 1, 'A': 0, 'B': 1, 'AB': 0}, {'veg': 'champignon', 'total': 18, 'A': 0, 'B': 12, 'AB': 6}, {'veg': 'knollensellerie', 'total': 14, 'A': 0, 'B': 11, 'AB': 3}, {'veg': 'kohlrabi', 'total': 19, 'A': 0, 'B': 15, 'AB': 4}, {'veg': 'spinat', 'total': 10, 'A': 0, 'B': 9, 'AB': 1}, {'veg': 'blumenkohl', 'total': 6, 'A': 0, 'B': 4, 'AB': 2}, {'veg': 'rosenkohl', 'total': 3, 'A': 0, 'B': 1, 'AB': 2}, {'veg': 'linsen', 'total': 8, 'A': 0, 'B': 8, 'AB': 0}, {'veg': 'karotte', 'total': 15, 'A': 0, 'B': 9, 'AB': 6}, {'veg': 'weiße_bohnen', 'total': 15, 'A': 0, 'B': 13, 'AB': 2}]\n"
     ]
    }
   ],
   "source": [
    "e2spices = []\n",
    "veg2spices = []\n",
    "print ('edges linking ABvegs to spices\\n-------------------')\n",
    "for veg in ABvegs:\n",
    "    neighbors = G[veg]\n",
    "    ks = neighbors.keys()\n",
    "    i = 0\n",
    "    j = 0\n",
    "    m = 0\n",
    "    n = 0\n",
    "    for k in ks:\n",
    "        if k in spices:\n",
    "            x = G[k].get(veg)\n",
    "            e_id = x.get('id')\n",
    "            e_weight = x.get('weight')\n",
    "            i += e_weight\n",
    "            e2spices.append(e_id)\n",
    "            if e_id in Aedges:\n",
    "                j += e_weight\n",
    "            elif e_id in Bedges:\n",
    "                m += e_weight\n",
    "            elif e_id in ABedges:\n",
    "                n += e_weight\n",
    "    x = {'veg': veg, 'total': i, 'A': j, 'B': m, 'AB': n}    \n",
    "    veg2spices.append(x)\n",
    "    print (veg, i)\n",
    "print ('\\nABveg relations to spices, sum\\n-------------------')\n",
    "print(len(e2spices))\n",
    "#print(e2spices)  \n",
    "print ('\\nABveg relations to spices, composite\\n-------------------')\n",
    "print (veg2spices)\n",
    "\n",
    "f = open(\"veg2spicesWeighted.csv\", \"w\")\n",
    "for veg in veg2spices:\n",
    "    y = veg.get('veg')+';'+str(veg.get('total'))+';'+str(veg.get('A'))+';'+str(veg.get('B'))+';'+str(veg.get('AB'))+';\\n'\n",
    "    f.write(y)\n",
    "f.close()"
   ]
  },
  {
   "cell_type": "code",
   "execution_count": null,
   "id": "5d5d7f5b-bc68-4bdc-b43c-29c016928480",
   "metadata": {},
   "outputs": [],
   "source": []
  }
 ],
 "metadata": {
  "kernelspec": {
   "display_name": "Python 3 (ipykernel)",
   "language": "python",
   "name": "python3"
  },
  "language_info": {
   "codemirror_mode": {
    "name": "ipython",
    "version": 3
   },
   "file_extension": ".py",
   "mimetype": "text/x-python",
   "name": "python",
   "nbconvert_exporter": "python",
   "pygments_lexer": "ipython3",
   "version": "3.10.7"
  }
 },
 "nbformat": 4,
 "nbformat_minor": 5
}
