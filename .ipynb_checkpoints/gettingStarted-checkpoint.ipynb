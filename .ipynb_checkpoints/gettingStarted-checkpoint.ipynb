{
 "cells": [
  {
   "cell_type": "markdown",
   "id": "8870296d",
   "metadata": {},
   "source": [
    "## Guten Morgen,\n",
    "das ist mein erstes *Jupyter notebook*. \n",
    "\n",
    "Ich schätze, ich muss jetzt erst einmal die Markdown-Syntax lernen. "
   ]
  },
  {
   "cell_type": "code",
   "execution_count": null,
   "id": "5c479395",
   "metadata": {},
   "outputs": [],
   "source": [
    "1+2"
   ]
  },
  {
   "cell_type": "markdown",
   "id": "1a8b9230",
   "metadata": {},
   "source": [
    "Da hab ich doch schon meine erste Berechnung ausgeführt. Prima, Nobi! Ich bin stolz auf Dich!"
   ]
  }
 ],
 "metadata": {
  "kernelspec": {
   "display_name": "Python 3 (ipykernel)",
   "language": "python",
   "name": "python3"
  },
  "language_info": {
   "codemirror_mode": {
    "name": "ipython",
    "version": 3
   },
   "file_extension": ".py",
   "mimetype": "text/x-python",
   "name": "python",
   "nbconvert_exporter": "python",
   "pygments_lexer": "ipython3",
   "version": "3.10.7"
  }
 },
 "nbformat": 4,
 "nbformat_minor": 5
}
