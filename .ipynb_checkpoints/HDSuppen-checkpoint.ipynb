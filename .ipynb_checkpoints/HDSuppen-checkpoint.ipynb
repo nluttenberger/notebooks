{
 "cells": [
  {
   "cell_type": "code",
   "execution_count": 1,
   "id": "00d6b51d-3689-4181-a5dd-c9eacbd23e4c",
   "metadata": {},
   "outputs": [],
   "source": [
    "import io\n",
    "import os\n",
    "import re\n",
    "from xml.dom import minidom\n",
    "import json\n",
    "import codecs"
   ]
  },
  {
   "cell_type": "markdown",
   "id": "1ddce889-b623-49aa-a207-1e93bf9bc9e8",
   "metadata": {},
   "source": [
    "Navigate to recipe directory:"
   ]
  },
  {
   "cell_type": "code",
   "execution_count": 2,
   "id": "c5ed000b-a04a-4a60-9910-d3984e1ced31",
   "metadata": {},
   "outputs": [
    {
     "name": "stdout",
     "output_type": "stream",
     "text": [
      "Current working directory: C:\\Users\\nlutt\\Documents\\Websites\\KochbuchHD\\recipes_xml\\01 Suppen\n",
      "94\n"
     ]
    }
   ],
   "source": [
    "#f = io.open(\"igt_cat.json\", mode=\"r\", encoding=\"utf-8\")\n",
    "#cwd = os.getcwd()\n",
    "# Print the current working directory\n",
    "#print(\"Current working directory: {0}\".format(cwd))\n",
    "os.chdir('C:/Users/nlutt/Documents/Websites/KochbuchHD/recipes_xml/01 Suppen')\n",
    "cwd = os.getcwd()\n",
    "print(\"Current working directory: {0}\".format(cwd))\n",
    "# f.read()\n",
    "os.listdir(cwd)\n",
    "res = []\n",
    "# Iterate directory\n",
    "for path in os.listdir(cwd):\n",
    "    # check if current path is a file\n",
    "    if os.path.isfile(os.path.join(cwd, path)):\n",
    "        res.append(path)\n",
    "print(len(res))"
   ]
  },
  {
   "cell_type": "markdown",
   "id": "1d431a5e-b3ec-4f81-8658-c8d9214dc20f",
   "metadata": {},
   "source": [
    "### Read and parse ingredient catalogue"
   ]
  },
  {
   "cell_type": "code",
   "execution_count": 12,
   "id": "be164c18-d95a-4d83-ae5c-bbee9141a8ce",
   "metadata": {
    "tags": []
   },
   "outputs": [
    {
     "name": "stdout",
     "output_type": "stream",
     "text": [
      "723\n"
     ]
    }
   ],
   "source": [
    "with open('C:/Users/nlutt\\Documents/Websites/Ingredients/igt-catalog.json', 'r', encoding='utf-8') as f:\n",
    "  igtCat = json.load(f)\n",
    "cat = igtCat.get('ingredients')\n",
    "print (len(cat))\n",
    "#for igt in cat:\n",
    "#    print (igt.get('normName'))"
   ]
  },
  {
   "cell_type": "markdown",
   "id": "d1573850-31e3-42f8-8e6e-9d97c93ba9bd",
   "metadata": {},
   "source": [
    "### In all recipes of collection, set references to igt catalogue entries "
   ]
  },
  {
   "cell_type": "code",
   "execution_count": 17,
   "id": "1fde486f-1975-4938-969c-80f7dc2aaa83",
   "metadata": {},
   "outputs": [
    {
     "name": "stdout",
     "output_type": "stream",
     "text": [
      "     1  schwammklöße                                                Aalsuppe mit Bouillon.xml\n",
      "     2  bittere macronen                                            Eine angenehme Abendsuppe warm und kalt.xml\n",
      "     3  bisquitschnittchen                                          Erdbeersuppe.xml\n",
      "     4  purree                                                      Kartoffelsuppe.xml\n",
      "     5  hühner                                                      Kerry-Suppe.xml\n",
      "     6  bittere macronen                                            Milch-Kalteschale mit geschlagener Sahne.xml\n",
      "     7  ochsenmaul                                                  Mock Turtle Suppe einfacher zubereitet.xml\n",
      "     8  graves                                                      Mock Turtle Suppe einfacher zubereitet.xml\n",
      "     9  ochsengaumen                                                Mock Turtle Suppe.xml\n",
      "    10  saucissen                                                   Mock Turtle Suppe.xml\n",
      "    11  englischer soja                                             Mock Turtle Suppe.xml\n",
      "    12  bisquit                                                     Sagosuppe mit rothem Wein.xml\n",
      "    13  purree                                                      Suppe von getrockneten Erbsen.xml\n",
      "    14  macronen                                                    Wein-Kalteschale.xml\n",
      "    15  purree                                                      Weiße Bohnensuppe.xml\n",
      "end\n"
     ]
    }
   ],
   "source": [
    "no_match_ctr = 0\n",
    "os.chdir('C:/Users/nlutt/Documents/Websites/KochbuchHD/recipes_xml/01 Suppen')\n",
    "cwd = os.getcwd()\n",
    "\n",
    "#outer loop: collection\n",
    "for fn in os.listdir(cwd):\n",
    "    if re.match(r\"^\\d\\d\", fn) == None:\n",
    "        recipe = minidom.parse (fn)\n",
    "        ingredients = recipe.getElementsByTagName(\"fr:igdtName\")\n",
    "\n",
    "        #middle loop: recipe \n",
    "        for ingredient in ingredients:\n",
    "            given = ingredient.firstChild.nodeValue.lower()\n",
    "            #print (ingredient.getAttribute('ref'))\n",
    "            oder = re.match(r\"(.*)\\soder\\s\",given)\n",
    "            if oder != None:\n",
    "                given = oder.group(1)\n",
    "            matches = []\n",
    "            myMatch = {}\n",
    "\n",
    "            #inner loop: ingredient names\n",
    "            for igt in cat:\n",
    "                x = igt.get('normName')\n",
    "                m = re.search (x, given)\n",
    "                if m != None:\n",
    "                    start, end = m.span()\n",
    "                    if end-start > 0:\n",
    "                        #print (end-start, '  ', m.group() )\n",
    "                        matching = {}\n",
    "                        matching['name']   = igt.get('id')\n",
    "                        matching['pos']    = start\n",
    "                        matching['length'] = end - start\n",
    "                        matches.append(matching) \n",
    "                synos = igt.get('synonyms')\n",
    "                if synos != None:\n",
    "                    for syno in synos:\n",
    "                        m = re.search (syno, given)\n",
    "                        if m != None:\n",
    "                            start, end = m.span()\n",
    "                            if end-start > 0:\n",
    "                                #print (end-start, '  ', m.group() )\n",
    "                                matching = {}\n",
    "                                matching['name']   = igt.get('id')\n",
    "                                matching['pos']    = start\n",
    "                                matching['length'] = end - start\n",
    "                                matches.append(matching)\n",
    "            if len(matches) > 0:\n",
    "                matches_sorted = sorted(matches, key=lambda x: (-x['length'], x['pos']))\n",
    "                myMatch = matches_sorted[0]\n",
    "                #print ('+'.rjust(6) + '  ' + given.ljust(45) + myMatch['name']) \n",
    "                ingredient.setAttribute (\"ref\", myMatch['name'])\n",
    "                #print (ingredient.getAttribute('ref'))\n",
    "            if myMatch == {}:\n",
    "                no_match_ctr += 1\n",
    "                #message = str(no_match_ctr).rjust(6) + '  ' + given.ljust(35) + recipe.getElementsByTagName(\"fr:recipeName\")[0].firstChild.nodeValue\n",
    "                message = str(no_match_ctr).rjust(6) + '  ' + given.ljust(60) + fn\n",
    "                print (message)\n",
    "        \n",
    "        #with codecs.open(fn, 'w', encoding = 'utf8') as file:\n",
    "            #rcp_str = str(recipe.toxml())\n",
    "            #file.write(rcp_str)\n",
    "print('end')"
   ]
  },
  {
   "cell_type": "code",
   "execution_count": null,
   "id": "c6d3c6ee-a1c4-42aa-9c69-dd3fbe96b407",
   "metadata": {},
   "outputs": [],
   "source": []
  }
 ],
 "metadata": {
  "kernelspec": {
   "display_name": "Python 3 (ipykernel)",
   "language": "python",
   "name": "python3"
  },
  "language_info": {
   "codemirror_mode": {
    "name": "ipython",
    "version": 3
   },
   "file_extension": ".py",
   "mimetype": "text/x-python",
   "name": "python",
   "nbconvert_exporter": "python",
   "pygments_lexer": "ipython3",
   "version": "3.10.7"
  }
 },
 "nbformat": 4,
 "nbformat_minor": 5
}
